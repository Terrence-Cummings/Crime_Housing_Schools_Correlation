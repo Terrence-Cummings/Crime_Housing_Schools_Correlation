{
 "cells": [
  {
   "cell_type": "code",
   "execution_count": 1,
   "metadata": {},
   "outputs": [],
   "source": [
    "#I wanted to see what happened when \n",
    "#I calculated the crime rates for each of the neighborhoods and compared those with housing prices.\n",
    "\n",
    "import pandas as pd\n",
    "import matplotlib.pyplot as plt\n",
    "from scipy.stats import linregress\n",
    "import gmaps\n",
    "from api_keys import g_key\n",
    "gmaps.configure(api_key = g_key)"
   ]
  },
  {
   "cell_type": "code",
   "execution_count": 2,
   "metadata": {},
   "outputs": [
    {
     "data": {
      "text/plain": [
       "90"
      ]
     },
     "execution_count": 2,
     "metadata": {},
     "output_type": "execute_result"
    }
   ],
   "source": [
    "crime_data_csv = \"data/neighborhood_crime.csv\"\n",
    "crime_data = pd.read_csv(crime_data_csv)\n",
    "crime = crime_data.drop('Unnamed: 0', axis=1)\n",
    "len(crime['Neighborhood'].unique())"
   ]
  },
  {
   "cell_type": "code",
   "execution_count": 3,
   "metadata": {},
   "outputs": [
    {
     "data": {
      "text/plain": [
       "90"
      ]
     },
     "execution_count": 3,
     "metadata": {},
     "output_type": "execute_result"
    }
   ],
   "source": [
    "#sort the dataframe alphabetically by neighborhood name.\n",
    "crime_sort = crime.sort_values(by='Neighborhood', ascending=True)\n",
    "len(crime_sort['Neighborhood'].unique())\n"
   ]
  },
  {
   "cell_type": "code",
   "execution_count": 4,
   "metadata": {},
   "outputs": [],
   "source": [
    "#Reset the index\n",
    "crime_clean = crime_sort.reset_index(drop=True)"
   ]
  },
  {
   "cell_type": "code",
   "execution_count": 5,
   "metadata": {},
   "outputs": [
    {
     "data": {
      "text/html": [
       "<div>\n",
       "<style scoped>\n",
       "    .dataframe tbody tr th:only-of-type {\n",
       "        vertical-align: middle;\n",
       "    }\n",
       "\n",
       "    .dataframe tbody tr th {\n",
       "        vertical-align: top;\n",
       "    }\n",
       "\n",
       "    .dataframe thead th {\n",
       "        text-align: right;\n",
       "    }\n",
       "</style>\n",
       "<table border=\"1\" class=\"dataframe\">\n",
       "  <thead>\n",
       "    <tr style=\"text-align: right;\">\n",
       "      <th></th>\n",
       "      <th>Precinct</th>\n",
       "      <th>Offense</th>\n",
       "      <th>Description</th>\n",
       "      <th>Latitude</th>\n",
       "      <th>Longitude</th>\n",
       "      <th>Neighborhood</th>\n",
       "      <th>Date of Offense</th>\n",
       "      <th>Offense Type</th>\n",
       "      <th>Community</th>\n",
       "      <th>COMMUNITY POPULATION</th>\n",
       "    </tr>\n",
       "  </thead>\n",
       "  <tbody>\n",
       "    <tr>\n",
       "      <th>0</th>\n",
       "      <td>5.0</td>\n",
       "      <td>BURGD</td>\n",
       "      <td>Burglary of Dwelling</td>\n",
       "      <td>44.904221</td>\n",
       "      <td>-93.307364</td>\n",
       "      <td>ARMATAGE</td>\n",
       "      <td>2015-08-18</td>\n",
       "      <td>Violent</td>\n",
       "      <td>SOUTHWEST</td>\n",
       "      <td>49820.0</td>\n",
       "    </tr>\n",
       "    <tr>\n",
       "      <th>1</th>\n",
       "      <td>5.0</td>\n",
       "      <td>TFMV</td>\n",
       "      <td>Theft from Automobile</td>\n",
       "      <td>44.904229</td>\n",
       "      <td>-93.308636</td>\n",
       "      <td>ARMATAGE</td>\n",
       "      <td>2018-05-12</td>\n",
       "      <td>Non-Violent</td>\n",
       "      <td>SOUTHWEST</td>\n",
       "      <td>49820.0</td>\n",
       "    </tr>\n",
       "    <tr>\n",
       "      <th>2</th>\n",
       "      <td>5.0</td>\n",
       "      <td>TFMV</td>\n",
       "      <td>Theft from Automobile</td>\n",
       "      <td>44.901620</td>\n",
       "      <td>-93.318820</td>\n",
       "      <td>ARMATAGE</td>\n",
       "      <td>2018-05-12</td>\n",
       "      <td>Non-Violent</td>\n",
       "      <td>SOUTHWEST</td>\n",
       "      <td>49820.0</td>\n",
       "    </tr>\n",
       "    <tr>\n",
       "      <th>3</th>\n",
       "      <td>5.0</td>\n",
       "      <td>THEFT</td>\n",
       "      <td>Other Theft</td>\n",
       "      <td>44.895638</td>\n",
       "      <td>-93.308667</td>\n",
       "      <td>ARMATAGE</td>\n",
       "      <td>2018-03-29</td>\n",
       "      <td>Non-Violent</td>\n",
       "      <td>SOUTHWEST</td>\n",
       "      <td>49820.0</td>\n",
       "    </tr>\n",
       "    <tr>\n",
       "      <th>4</th>\n",
       "      <td>5.0</td>\n",
       "      <td>TMVP</td>\n",
       "      <td>Theft - Automobile Parts</td>\n",
       "      <td>44.895641</td>\n",
       "      <td>-93.309897</td>\n",
       "      <td>ARMATAGE</td>\n",
       "      <td>2018-01-21</td>\n",
       "      <td>Non-Violent</td>\n",
       "      <td>SOUTHWEST</td>\n",
       "      <td>49820.0</td>\n",
       "    </tr>\n",
       "    <tr>\n",
       "      <th>...</th>\n",
       "      <td>...</td>\n",
       "      <td>...</td>\n",
       "      <td>...</td>\n",
       "      <td>...</td>\n",
       "      <td>...</td>\n",
       "      <td>...</td>\n",
       "      <td>...</td>\n",
       "      <td>...</td>\n",
       "      <td>...</td>\n",
       "      <td>...</td>\n",
       "    </tr>\n",
       "    <tr>\n",
       "      <th>104734</th>\n",
       "      <td>2.0</td>\n",
       "      <td>TFMV</td>\n",
       "      <td>Theft from Automobile</td>\n",
       "      <td>45.012276</td>\n",
       "      <td>-93.240972</td>\n",
       "      <td>WINDOM PARK</td>\n",
       "      <td>2018-08-01</td>\n",
       "      <td>Non-Violent</td>\n",
       "      <td>NORTHEAST</td>\n",
       "      <td>38226.0</td>\n",
       "    </tr>\n",
       "    <tr>\n",
       "      <th>104735</th>\n",
       "      <td>2.0</td>\n",
       "      <td>TFMV</td>\n",
       "      <td>Theft from Automobile</td>\n",
       "      <td>45.006429</td>\n",
       "      <td>-93.245609</td>\n",
       "      <td>WINDOM PARK</td>\n",
       "      <td>2018-08-15</td>\n",
       "      <td>Non-Violent</td>\n",
       "      <td>NORTHEAST</td>\n",
       "      <td>38226.0</td>\n",
       "    </tr>\n",
       "    <tr>\n",
       "      <th>104736</th>\n",
       "      <td>2.0</td>\n",
       "      <td>TFMV</td>\n",
       "      <td>Theft from Automobile</td>\n",
       "      <td>45.011136</td>\n",
       "      <td>-93.242248</td>\n",
       "      <td>WINDOM PARK</td>\n",
       "      <td>2018-08-05</td>\n",
       "      <td>Non-Violent</td>\n",
       "      <td>NORTHEAST</td>\n",
       "      <td>38226.0</td>\n",
       "    </tr>\n",
       "    <tr>\n",
       "      <th>104737</th>\n",
       "      <td>2.0</td>\n",
       "      <td>THFTSW</td>\n",
       "      <td>Theft by Swindle</td>\n",
       "      <td>45.008406</td>\n",
       "      <td>-93.247370</td>\n",
       "      <td>WINDOM PARK</td>\n",
       "      <td>2018-09-28</td>\n",
       "      <td>Non-Violent</td>\n",
       "      <td>NORTHEAST</td>\n",
       "      <td>38226.0</td>\n",
       "    </tr>\n",
       "    <tr>\n",
       "      <th>104738</th>\n",
       "      <td>2.0</td>\n",
       "      <td>TMVP</td>\n",
       "      <td>Theft - Automobile Parts</td>\n",
       "      <td>45.006884</td>\n",
       "      <td>-93.237170</td>\n",
       "      <td>WINDOM PARK</td>\n",
       "      <td>2018-01-29</td>\n",
       "      <td>Non-Violent</td>\n",
       "      <td>NORTHEAST</td>\n",
       "      <td>38226.0</td>\n",
       "    </tr>\n",
       "  </tbody>\n",
       "</table>\n",
       "<p>104739 rows × 10 columns</p>\n",
       "</div>"
      ],
      "text/plain": [
       "        Precinct   Offense               Description   Latitude  Longitude  \\\n",
       "0            5.0     BURGD      Burglary of Dwelling  44.904221 -93.307364   \n",
       "1            5.0      TFMV     Theft from Automobile  44.904229 -93.308636   \n",
       "2            5.0      TFMV     Theft from Automobile  44.901620 -93.318820   \n",
       "3            5.0     THEFT               Other Theft  44.895638 -93.308667   \n",
       "4            5.0      TMVP  Theft - Automobile Parts  44.895641 -93.309897   \n",
       "...          ...       ...                       ...        ...        ...   \n",
       "104734       2.0  TFMV         Theft from Automobile  45.012276 -93.240972   \n",
       "104735       2.0  TFMV         Theft from Automobile  45.006429 -93.245609   \n",
       "104736       2.0  TFMV         Theft from Automobile  45.011136 -93.242248   \n",
       "104737       2.0  THFTSW            Theft by Swindle  45.008406 -93.247370   \n",
       "104738       2.0      TMVP  Theft - Automobile Parts  45.006884 -93.237170   \n",
       "\n",
       "       Neighborhood Date of Offense Offense Type  Community  \\\n",
       "0          ARMATAGE      2015-08-18      Violent  SOUTHWEST   \n",
       "1          ARMATAGE      2018-05-12  Non-Violent  SOUTHWEST   \n",
       "2          ARMATAGE      2018-05-12  Non-Violent  SOUTHWEST   \n",
       "3          ARMATAGE      2018-03-29  Non-Violent  SOUTHWEST   \n",
       "4          ARMATAGE      2018-01-21  Non-Violent  SOUTHWEST   \n",
       "...             ...             ...          ...        ...   \n",
       "104734  WINDOM PARK      2018-08-01  Non-Violent  NORTHEAST   \n",
       "104735  WINDOM PARK      2018-08-15  Non-Violent  NORTHEAST   \n",
       "104736  WINDOM PARK      2018-08-05  Non-Violent  NORTHEAST   \n",
       "104737  WINDOM PARK      2018-09-28  Non-Violent  NORTHEAST   \n",
       "104738  WINDOM PARK      2018-01-29  Non-Violent  NORTHEAST   \n",
       "\n",
       "        COMMUNITY POPULATION  \n",
       "0                    49820.0  \n",
       "1                    49820.0  \n",
       "2                    49820.0  \n",
       "3                    49820.0  \n",
       "4                    49820.0  \n",
       "...                      ...  \n",
       "104734               38226.0  \n",
       "104735               38226.0  \n",
       "104736               38226.0  \n",
       "104737               38226.0  \n",
       "104738               38226.0  \n",
       "\n",
       "[104739 rows x 10 columns]"
      ]
     },
     "execution_count": 5,
     "metadata": {},
     "output_type": "execute_result"
    }
   ],
   "source": [
    "crime_clean"
   ]
  },
  {
   "cell_type": "code",
   "execution_count": 6,
   "metadata": {},
   "outputs": [],
   "source": [
    "#Create lists for the various stats that will be used in the summary table.\n",
    "neighborhoods = []\n",
    "neighborhood_crimes = []\n",
    "violent_crimes = []\n",
    "nonviolent_crimes = []\n",
    "\n",
    "#Create a for loop that will collect the names of the neighborhoods and put them in the list for neighborhoods.\n",
    "for index, row in crime_clean.iterrows():\n",
    "    neighborhood = row['Neighborhood']\n",
    "    if neighborhood not in neighborhoods:\n",
    "        neighborhoods.append(neighborhood)\n",
    "        "
   ]
  },
  {
   "cell_type": "code",
   "execution_count": 7,
   "metadata": {},
   "outputs": [
    {
     "data": {
      "text/plain": [
       "90"
      ]
     },
     "execution_count": 7,
     "metadata": {},
     "output_type": "execute_result"
    }
   ],
   "source": [
    "len(neighborhoods)"
   ]
  },
  {
   "cell_type": "code",
   "execution_count": 8,
   "metadata": {},
   "outputs": [],
   "source": [
    "#Create another for loop that will collect the number of crimes (total, violent and non-violent) for each neighborhood.\n",
    "\n",
    "for neighborhood in neighborhoods:\n",
    "    #This calculates the number of rows for each neighborhood to get a count of total crimes.\n",
    "    neighborhood_crimes.append(crime_clean.loc[crime_clean['Neighborhood'] == neighborhood, 'Neighborhood'].count())\n",
    "    #This creates a dataframe for each neighborhood, so that the rows for both violent and non-violent offenses can be counted.\n",
    "    neighborhood_df = crime_clean.loc[crime_clean['Neighborhood'] == neighborhood]\n",
    "    violent_crimes.append(neighborhood_df.loc[crime_clean['Offense Type'] == 'Violent', 'Offense Type'].count())\n",
    "    nonviolent_crimes.append(neighborhood_df.loc[crime_clean['Offense Type'] == 'Non-Violent', 'Offense Type'].count())"
   ]
  },
  {
   "cell_type": "code",
   "execution_count": 9,
   "metadata": {},
   "outputs": [
    {
     "data": {
      "text/plain": [
       "90"
      ]
     },
     "execution_count": 9,
     "metadata": {},
     "output_type": "execute_result"
    }
   ],
   "source": [
    "len(neighborhood_crimes)"
   ]
  },
  {
   "cell_type": "code",
   "execution_count": 10,
   "metadata": {},
   "outputs": [
    {
     "data": {
      "text/html": [
       "<div>\n",
       "<style scoped>\n",
       "    .dataframe tbody tr th:only-of-type {\n",
       "        vertical-align: middle;\n",
       "    }\n",
       "\n",
       "    .dataframe tbody tr th {\n",
       "        vertical-align: top;\n",
       "    }\n",
       "\n",
       "    .dataframe thead th {\n",
       "        text-align: right;\n",
       "    }\n",
       "</style>\n",
       "<table border=\"1\" class=\"dataframe\">\n",
       "  <thead>\n",
       "    <tr style=\"text-align: right;\">\n",
       "      <th></th>\n",
       "      <th>Neighborhood</th>\n",
       "      <th>Crimes</th>\n",
       "      <th>Violent Crimes</th>\n",
       "      <th>Non-Violent Crimes</th>\n",
       "    </tr>\n",
       "  </thead>\n",
       "  <tbody>\n",
       "    <tr>\n",
       "      <th>0</th>\n",
       "      <td>ARMATAGE</td>\n",
       "      <td>411</td>\n",
       "      <td>124</td>\n",
       "      <td>287</td>\n",
       "    </tr>\n",
       "    <tr>\n",
       "      <th>1</th>\n",
       "      <td>AUDUBON PARK</td>\n",
       "      <td>735</td>\n",
       "      <td>285</td>\n",
       "      <td>450</td>\n",
       "    </tr>\n",
       "    <tr>\n",
       "      <th>2</th>\n",
       "      <td>BANCROFT</td>\n",
       "      <td>630</td>\n",
       "      <td>275</td>\n",
       "      <td>355</td>\n",
       "    </tr>\n",
       "    <tr>\n",
       "      <th>3</th>\n",
       "      <td>BELTRAMI</td>\n",
       "      <td>296</td>\n",
       "      <td>98</td>\n",
       "      <td>198</td>\n",
       "    </tr>\n",
       "    <tr>\n",
       "      <th>4</th>\n",
       "      <td>BOTTINEAU</td>\n",
       "      <td>408</td>\n",
       "      <td>125</td>\n",
       "      <td>283</td>\n",
       "    </tr>\n",
       "    <tr>\n",
       "      <th>...</th>\n",
       "      <td>...</td>\n",
       "      <td>...</td>\n",
       "      <td>...</td>\n",
       "      <td>...</td>\n",
       "    </tr>\n",
       "    <tr>\n",
       "      <th>85</th>\n",
       "      <td>WEST CALHOUN</td>\n",
       "      <td>402</td>\n",
       "      <td>65</td>\n",
       "      <td>337</td>\n",
       "    </tr>\n",
       "    <tr>\n",
       "      <th>86</th>\n",
       "      <td>WHITTIER</td>\n",
       "      <td>4394</td>\n",
       "      <td>1319</td>\n",
       "      <td>3075</td>\n",
       "    </tr>\n",
       "    <tr>\n",
       "      <th>87</th>\n",
       "      <td>WILLARD-HAY</td>\n",
       "      <td>2139</td>\n",
       "      <td>1113</td>\n",
       "      <td>1026</td>\n",
       "    </tr>\n",
       "    <tr>\n",
       "      <th>88</th>\n",
       "      <td>WINDOM</td>\n",
       "      <td>859</td>\n",
       "      <td>247</td>\n",
       "      <td>612</td>\n",
       "    </tr>\n",
       "    <tr>\n",
       "      <th>89</th>\n",
       "      <td>WINDOM PARK</td>\n",
       "      <td>763</td>\n",
       "      <td>268</td>\n",
       "      <td>495</td>\n",
       "    </tr>\n",
       "  </tbody>\n",
       "</table>\n",
       "<p>90 rows × 4 columns</p>\n",
       "</div>"
      ],
      "text/plain": [
       "    Neighborhood  Crimes  Violent Crimes  Non-Violent Crimes\n",
       "0       ARMATAGE     411             124                 287\n",
       "1   AUDUBON PARK     735             285                 450\n",
       "2       BANCROFT     630             275                 355\n",
       "3       BELTRAMI     296              98                 198\n",
       "4      BOTTINEAU     408             125                 283\n",
       "..           ...     ...             ...                 ...\n",
       "85  WEST CALHOUN     402              65                 337\n",
       "86      WHITTIER    4394            1319                3075\n",
       "87   WILLARD-HAY    2139            1113                1026\n",
       "88        WINDOM     859             247                 612\n",
       "89   WINDOM PARK     763             268                 495\n",
       "\n",
       "[90 rows x 4 columns]"
      ]
     },
     "execution_count": 10,
     "metadata": {},
     "output_type": "execute_result"
    }
   ],
   "source": [
    "#Create a summary dataframe using the variables created above.\n",
    "neigh_crime = pd.DataFrame({'Neighborhood':neighborhoods, 'Crimes':neighborhood_crimes,\n",
    "                            'Violent Crimes':violent_crimes, 'Non-Violent Crimes':nonviolent_crimes})\n",
    "neigh_crime"
   ]
  },
  {
   "cell_type": "code",
   "execution_count": 12,
   "metadata": {},
   "outputs": [],
   "source": [
    "#Export summary table.\n",
    "neigh_crime.to_csv(\"data/neighborhood_crime_summary.csv\", index=True, header=True)"
   ]
  },
  {
   "cell_type": "code",
   "execution_count": 13,
   "metadata": {},
   "outputs": [
    {
     "data": {
      "text/html": [
       "<div>\n",
       "<style scoped>\n",
       "    .dataframe tbody tr th:only-of-type {\n",
       "        vertical-align: middle;\n",
       "    }\n",
       "\n",
       "    .dataframe tbody tr th {\n",
       "        vertical-align: top;\n",
       "    }\n",
       "\n",
       "    .dataframe thead th {\n",
       "        text-align: right;\n",
       "    }\n",
       "</style>\n",
       "<table border=\"1\" class=\"dataframe\">\n",
       "  <thead>\n",
       "    <tr style=\"text-align: right;\">\n",
       "      <th></th>\n",
       "      <th>Neighborhood</th>\n",
       "      <th>Crimes</th>\n",
       "      <th>Violent Crimes</th>\n",
       "      <th>Non-Violent Crimes</th>\n",
       "      <th>Price per Sq Ft</th>\n",
       "      <th>Population</th>\n",
       "    </tr>\n",
       "  </thead>\n",
       "  <tbody>\n",
       "    <tr>\n",
       "      <th>0</th>\n",
       "      <td>ARMATAGE</td>\n",
       "      <td>411</td>\n",
       "      <td>124</td>\n",
       "      <td>287</td>\n",
       "      <td>164.491929</td>\n",
       "      <td>4934</td>\n",
       "    </tr>\n",
       "    <tr>\n",
       "      <th>1</th>\n",
       "      <td>AUDUBON PARK</td>\n",
       "      <td>735</td>\n",
       "      <td>285</td>\n",
       "      <td>450</td>\n",
       "      <td>136.846501</td>\n",
       "      <td>5125</td>\n",
       "    </tr>\n",
       "    <tr>\n",
       "      <th>2</th>\n",
       "      <td>BANCROFT</td>\n",
       "      <td>630</td>\n",
       "      <td>275</td>\n",
       "      <td>355</td>\n",
       "      <td>132.834754</td>\n",
       "      <td>3587</td>\n",
       "    </tr>\n",
       "    <tr>\n",
       "      <th>3</th>\n",
       "      <td>BELTRAMI</td>\n",
       "      <td>296</td>\n",
       "      <td>98</td>\n",
       "      <td>198</td>\n",
       "      <td>117.911368</td>\n",
       "      <td>1248</td>\n",
       "    </tr>\n",
       "    <tr>\n",
       "      <th>4</th>\n",
       "      <td>BOTTINEAU</td>\n",
       "      <td>408</td>\n",
       "      <td>125</td>\n",
       "      <td>283</td>\n",
       "      <td>133.694873</td>\n",
       "      <td>1656</td>\n",
       "    </tr>\n",
       "    <tr>\n",
       "      <th>...</th>\n",
       "      <td>...</td>\n",
       "      <td>...</td>\n",
       "      <td>...</td>\n",
       "      <td>...</td>\n",
       "      <td>...</td>\n",
       "      <td>...</td>\n",
       "    </tr>\n",
       "    <tr>\n",
       "      <th>79</th>\n",
       "      <td>WEST CALHOUN</td>\n",
       "      <td>402</td>\n",
       "      <td>65</td>\n",
       "      <td>337</td>\n",
       "      <td>241.728559</td>\n",
       "      <td>1760</td>\n",
       "    </tr>\n",
       "    <tr>\n",
       "      <th>80</th>\n",
       "      <td>WHITTIER</td>\n",
       "      <td>4394</td>\n",
       "      <td>1319</td>\n",
       "      <td>3075</td>\n",
       "      <td>162.582786</td>\n",
       "      <td>14815</td>\n",
       "    </tr>\n",
       "    <tr>\n",
       "      <th>81</th>\n",
       "      <td>WILLARD-HAY</td>\n",
       "      <td>2139</td>\n",
       "      <td>1113</td>\n",
       "      <td>1026</td>\n",
       "      <td>79.471309</td>\n",
       "      <td>9556</td>\n",
       "    </tr>\n",
       "    <tr>\n",
       "      <th>82</th>\n",
       "      <td>WINDOM</td>\n",
       "      <td>859</td>\n",
       "      <td>247</td>\n",
       "      <td>612</td>\n",
       "      <td>140.548350</td>\n",
       "      <td>5045</td>\n",
       "    </tr>\n",
       "    <tr>\n",
       "      <th>83</th>\n",
       "      <td>WINDOM PARK</td>\n",
       "      <td>763</td>\n",
       "      <td>268</td>\n",
       "      <td>495</td>\n",
       "      <td>131.758186</td>\n",
       "      <td>5481</td>\n",
       "    </tr>\n",
       "  </tbody>\n",
       "</table>\n",
       "<p>84 rows × 6 columns</p>\n",
       "</div>"
      ],
      "text/plain": [
       "    Neighborhood  Crimes  Violent Crimes  Non-Violent Crimes  Price per Sq Ft  \\\n",
       "0       ARMATAGE     411             124                 287       164.491929   \n",
       "1   AUDUBON PARK     735             285                 450       136.846501   \n",
       "2       BANCROFT     630             275                 355       132.834754   \n",
       "3       BELTRAMI     296              98                 198       117.911368   \n",
       "4      BOTTINEAU     408             125                 283       133.694873   \n",
       "..           ...     ...             ...                 ...              ...   \n",
       "79  WEST CALHOUN     402              65                 337       241.728559   \n",
       "80      WHITTIER    4394            1319                3075       162.582786   \n",
       "81   WILLARD-HAY    2139            1113                1026        79.471309   \n",
       "82        WINDOM     859             247                 612       140.548350   \n",
       "83   WINDOM PARK     763             268                 495       131.758186   \n",
       "\n",
       "    Population  \n",
       "0         4934  \n",
       "1         5125  \n",
       "2         3587  \n",
       "3         1248  \n",
       "4         1656  \n",
       "..         ...  \n",
       "79        1760  \n",
       "80       14815  \n",
       "81        9556  \n",
       "82        5045  \n",
       "83        5481  \n",
       "\n",
       "[84 rows x 6 columns]"
      ]
     },
     "execution_count": 13,
     "metadata": {},
     "output_type": "execute_result"
    }
   ],
   "source": [
    "#Import csv file containing the populations and crime stats for each neighborhood.  \n",
    "#To expedite process, I combined the spreadsheet exported above with the pricing data from the housing analysis in excel.  \n",
    "#This could have been done through a merge like I did with the community data in another notebook.\n",
    "final_crime_csv = \"data/neighborhood_crime_pop_final.csv\"\n",
    "final_crime = pd.read_csv(final_crime_csv)\n",
    "final_crime"
   ]
  },
  {
   "cell_type": "code",
   "execution_count": 14,
   "metadata": {
    "scrolled": true
   },
   "outputs": [
    {
     "data": {
      "text/html": [
       "<div>\n",
       "<style scoped>\n",
       "    .dataframe tbody tr th:only-of-type {\n",
       "        vertical-align: middle;\n",
       "    }\n",
       "\n",
       "    .dataframe tbody tr th {\n",
       "        vertical-align: top;\n",
       "    }\n",
       "\n",
       "    .dataframe thead th {\n",
       "        text-align: right;\n",
       "    }\n",
       "</style>\n",
       "<table border=\"1\" class=\"dataframe\">\n",
       "  <thead>\n",
       "    <tr style=\"text-align: right;\">\n",
       "      <th></th>\n",
       "      <th>Neighborhood</th>\n",
       "      <th>Crimes</th>\n",
       "      <th>Violent Crimes</th>\n",
       "      <th>Non-Violent Crimes</th>\n",
       "      <th>Price per Sq Ft</th>\n",
       "      <th>Population</th>\n",
       "      <th>Crime Rate</th>\n",
       "      <th>Violent Rate</th>\n",
       "      <th>Non-Violent Rate</th>\n",
       "    </tr>\n",
       "  </thead>\n",
       "  <tbody>\n",
       "    <tr>\n",
       "      <th>0</th>\n",
       "      <td>ARMATAGE</td>\n",
       "      <td>411</td>\n",
       "      <td>124</td>\n",
       "      <td>287</td>\n",
       "      <td>164.491929</td>\n",
       "      <td>4934</td>\n",
       "      <td>16.659911</td>\n",
       "      <td>5.026348</td>\n",
       "      <td>11.633563</td>\n",
       "    </tr>\n",
       "    <tr>\n",
       "      <th>1</th>\n",
       "      <td>AUDUBON PARK</td>\n",
       "      <td>735</td>\n",
       "      <td>285</td>\n",
       "      <td>450</td>\n",
       "      <td>136.846501</td>\n",
       "      <td>5125</td>\n",
       "      <td>28.682927</td>\n",
       "      <td>11.121951</td>\n",
       "      <td>17.560976</td>\n",
       "    </tr>\n",
       "    <tr>\n",
       "      <th>2</th>\n",
       "      <td>BANCROFT</td>\n",
       "      <td>630</td>\n",
       "      <td>275</td>\n",
       "      <td>355</td>\n",
       "      <td>132.834754</td>\n",
       "      <td>3587</td>\n",
       "      <td>35.126847</td>\n",
       "      <td>15.333147</td>\n",
       "      <td>19.793699</td>\n",
       "    </tr>\n",
       "    <tr>\n",
       "      <th>3</th>\n",
       "      <td>BELTRAMI</td>\n",
       "      <td>296</td>\n",
       "      <td>98</td>\n",
       "      <td>198</td>\n",
       "      <td>117.911368</td>\n",
       "      <td>1248</td>\n",
       "      <td>47.435897</td>\n",
       "      <td>15.705128</td>\n",
       "      <td>31.730769</td>\n",
       "    </tr>\n",
       "    <tr>\n",
       "      <th>4</th>\n",
       "      <td>BOTTINEAU</td>\n",
       "      <td>408</td>\n",
       "      <td>125</td>\n",
       "      <td>283</td>\n",
       "      <td>133.694873</td>\n",
       "      <td>1656</td>\n",
       "      <td>49.275362</td>\n",
       "      <td>15.096618</td>\n",
       "      <td>34.178744</td>\n",
       "    </tr>\n",
       "    <tr>\n",
       "      <th>...</th>\n",
       "      <td>...</td>\n",
       "      <td>...</td>\n",
       "      <td>...</td>\n",
       "      <td>...</td>\n",
       "      <td>...</td>\n",
       "      <td>...</td>\n",
       "      <td>...</td>\n",
       "      <td>...</td>\n",
       "      <td>...</td>\n",
       "    </tr>\n",
       "    <tr>\n",
       "      <th>79</th>\n",
       "      <td>WEST CALHOUN</td>\n",
       "      <td>402</td>\n",
       "      <td>65</td>\n",
       "      <td>337</td>\n",
       "      <td>241.728559</td>\n",
       "      <td>1760</td>\n",
       "      <td>45.681818</td>\n",
       "      <td>7.386364</td>\n",
       "      <td>38.295455</td>\n",
       "    </tr>\n",
       "    <tr>\n",
       "      <th>80</th>\n",
       "      <td>WHITTIER</td>\n",
       "      <td>4394</td>\n",
       "      <td>1319</td>\n",
       "      <td>3075</td>\n",
       "      <td>162.582786</td>\n",
       "      <td>14815</td>\n",
       "      <td>59.318259</td>\n",
       "      <td>17.806277</td>\n",
       "      <td>41.511981</td>\n",
       "    </tr>\n",
       "    <tr>\n",
       "      <th>81</th>\n",
       "      <td>WILLARD-HAY</td>\n",
       "      <td>2139</td>\n",
       "      <td>1113</td>\n",
       "      <td>1026</td>\n",
       "      <td>79.471309</td>\n",
       "      <td>9556</td>\n",
       "      <td>44.767685</td>\n",
       "      <td>23.294265</td>\n",
       "      <td>21.473420</td>\n",
       "    </tr>\n",
       "    <tr>\n",
       "      <th>82</th>\n",
       "      <td>WINDOM</td>\n",
       "      <td>859</td>\n",
       "      <td>247</td>\n",
       "      <td>612</td>\n",
       "      <td>140.548350</td>\n",
       "      <td>5045</td>\n",
       "      <td>34.053518</td>\n",
       "      <td>9.791873</td>\n",
       "      <td>24.261645</td>\n",
       "    </tr>\n",
       "    <tr>\n",
       "      <th>83</th>\n",
       "      <td>WINDOM PARK</td>\n",
       "      <td>763</td>\n",
       "      <td>268</td>\n",
       "      <td>495</td>\n",
       "      <td>131.758186</td>\n",
       "      <td>5481</td>\n",
       "      <td>27.841635</td>\n",
       "      <td>9.779237</td>\n",
       "      <td>18.062397</td>\n",
       "    </tr>\n",
       "  </tbody>\n",
       "</table>\n",
       "<p>84 rows × 9 columns</p>\n",
       "</div>"
      ],
      "text/plain": [
       "    Neighborhood  Crimes  Violent Crimes  Non-Violent Crimes  Price per Sq Ft  \\\n",
       "0       ARMATAGE     411             124                 287       164.491929   \n",
       "1   AUDUBON PARK     735             285                 450       136.846501   \n",
       "2       BANCROFT     630             275                 355       132.834754   \n",
       "3       BELTRAMI     296              98                 198       117.911368   \n",
       "4      BOTTINEAU     408             125                 283       133.694873   \n",
       "..           ...     ...             ...                 ...              ...   \n",
       "79  WEST CALHOUN     402              65                 337       241.728559   \n",
       "80      WHITTIER    4394            1319                3075       162.582786   \n",
       "81   WILLARD-HAY    2139            1113                1026        79.471309   \n",
       "82        WINDOM     859             247                 612       140.548350   \n",
       "83   WINDOM PARK     763             268                 495       131.758186   \n",
       "\n",
       "    Population  Crime Rate  Violent Rate  Non-Violent Rate  \n",
       "0         4934   16.659911      5.026348         11.633563  \n",
       "1         5125   28.682927     11.121951         17.560976  \n",
       "2         3587   35.126847     15.333147         19.793699  \n",
       "3         1248   47.435897     15.705128         31.730769  \n",
       "4         1656   49.275362     15.096618         34.178744  \n",
       "..         ...         ...           ...               ...  \n",
       "79        1760   45.681818      7.386364         38.295455  \n",
       "80       14815   59.318259     17.806277         41.511981  \n",
       "81        9556   44.767685     23.294265         21.473420  \n",
       "82        5045   34.053518      9.791873         24.261645  \n",
       "83        5481   27.841635      9.779237         18.062397  \n",
       "\n",
       "[84 rows x 9 columns]"
      ]
     },
     "execution_count": 14,
     "metadata": {},
     "output_type": "execute_result"
    }
   ],
   "source": [
    "#Calculate crime rates.\n",
    "final_crime['Crime Rate'] = final_crime['Crimes']/final_crime['Population']*200\n",
    "final_crime['Violent Rate'] = final_crime['Violent Crimes']/final_crime['Population']*200\n",
    "final_crime['Non-Violent Rate'] = final_crime['Non-Violent Crimes']/final_crime['Population']*200\n",
    "final_crime"
   ]
  },
  {
   "cell_type": "code",
   "execution_count": 15,
   "metadata": {},
   "outputs": [],
   "source": [
    "#Export csv\n",
    "final_crime.to_csv(\"data/final_crime_neighborhood.csv\", index=False, header=True)"
   ]
  },
  {
   "cell_type": "code",
   "execution_count": 16,
   "metadata": {},
   "outputs": [],
   "source": [
    "#Function for line regression.\n",
    "def line_reg(x,y):\n",
    "    (slope, intercept, rvalue, pvalue, stderr) = linregress(x, y)\n",
    "    line_eq = \"y = \" + str(round(slope,2)) + \"x + \" + str(round(intercept,2))\n",
    "    regress_values = x * slope + intercept\n",
    "    plt.plot(x_values, regress_values, \"r-\")\n",
    "    plt.legend([line_eq + \"\\nr-squared = \" + str(round(rvalue**2, 2))])\n",
    "    print(line_eq)\n",
    "    print(\"The r-squared value is \" + str(round(rvalue**2, 2)))"
   ]
  },
  {
   "cell_type": "code",
   "execution_count": 17,
   "metadata": {},
   "outputs": [
    {
     "name": "stdout",
     "output_type": "stream",
     "text": [
      "y = 0.33x + 142.48\n",
      "The r-squared value is 0.09\n"
     ]
    },
    {
     "data": {
      "image/png": "[encoded data removed]",
      "text/plain": [
       "<Figure size 432x288 with 1 Axes>"
      ]
     },
     "metadata": {
      "needs_background": "light"
     },
     "output_type": "display_data"
    }
   ],
   "source": [
    "x_values = final_crime['Crime Rate']\n",
    "y_values = final_crime['Price per Sq Ft']\n",
    "line_reg(x_values, y_values)\n",
    "plt.title('Total Crime Rate\\nv. Housing Price')\n",
    "plt.xlabel('Total Crime Rate (per 1000 people)')\n",
    "plt.ylabel('Housing price (per sq. ft.)')\n",
    "plt.scatter(x_values, y_values)\n",
    "plt.show()"
   ]
  },
  {
   "cell_type": "code",
   "execution_count": 18,
   "metadata": {},
   "outputs": [
    {
     "name": "stdout",
     "output_type": "stream",
     "text": [
      "y = -0.64x + 171.92\n",
      "The r-squared value is 0.01\n"
     ]
    },
    {
     "data": {
      "image/png": "[encoded data removed]",
      "text/plain": [
       "<Figure size 432x288 with 1 Axes>"
      ]
     },
     "metadata": {
      "needs_background": "light"
     },
     "output_type": "display_data"
    }
   ],
   "source": [
    "x_values = final_crime['Violent Rate']\n",
    "y_values = final_crime['Price per Sq Ft']\n",
    "line_reg(x_values, y_values)\n",
    "plt.title('Violent Crime Rate\\nv. Housing Price')\n",
    "plt.xlabel('Violent Crime Rate (per 1000 people)')\n",
    "plt.ylabel('Housing price (per sq. ft.)')\n",
    "plt.scatter(x_values, y_values)\n",
    "plt.show()"
   ]
  },
  {
   "cell_type": "code",
   "execution_count": 19,
   "metadata": {},
   "outputs": [
    {
     "name": "stdout",
     "output_type": "stream",
     "text": [
      "y = 0.49x + 142.11\n",
      "The r-squared value is 0.14\n"
     ]
    },
    {
     "data": {
      "image/png": "[encoded data removed]",
      "text/plain": [
       "<Figure size 432x288 with 1 Axes>"
      ]
     },
     "metadata": {
      "needs_background": "light"
     },
     "output_type": "display_data"
    }
   ],
   "source": [
    "x_values = final_crime['Non-Violent Rate']\n",
    "y_values = final_crime['Price per Sq Ft']\n",
    "line_reg(x_values, y_values)\n",
    "plt.title('Non-Violent Crime Rate\\nv. Housing Price')\n",
    "plt.xlabel('Non-Violent Crime Rate (per 1000 people)')\n",
    "plt.ylabel('Housing price (per sq. ft.)')\n",
    "plt.scatter(x_values, y_values)\n",
    "plt.show()"
   ]
  },
  {
   "cell_type": "code",
   "execution_count": 20,
   "metadata": {},
   "outputs": [
    {
     "data": {
      "text/plain": [
       "297.6525822"
      ]
     },
     "execution_count": 20,
     "metadata": {},
     "output_type": "execute_result"
    }
   ],
   "source": [
    "#Read in csv file containing lat and lng data for neighborhoods.\n",
    "final_neigh_lat_csv = \"data/final_crime_neighborhood_latlng.csv\"\n",
    "final = pd.read_csv(final_neigh_lat_csv)\n"
   ]
  },
  {
   "cell_type": "code",
   "execution_count": 21,
   "metadata": {},
   "outputs": [],
   "source": [
    "#Create variables to generate heat maps\n",
    "locations = final[['Lat', 'Lng']]\n",
    "ratingvc = final['Violent Rate']\n",
    "ratingnc = final['Non-Violent Rate']"
   ]
  },
  {
   "cell_type": "code",
   "execution_count": 24,
   "metadata": {},
   "outputs": [
    {
     "data": {
      "application/vnd.jupyter.widget-view+json": {
       "model_id": "be2e40a18485422d9afbe067270d9b97",
       "version_major": 2,
       "version_minor": 0
      },
      "text/plain": [
       "Figure(layout=FigureLayout(height='420px'))"
      ]
     },
     "metadata": {},
     "output_type": "display_data"
    }
   ],
   "source": [
    "#Violent crime heat map\n",
    "figvc = gmaps.figure()\n",
    "heat_layer = gmaps.heatmap_layer(locations, weights=ratingvc, dissipating=False, max_intensity=90, point_radius=.018)\n",
    "figvc.add_layer(heat_layer)\n",
    "figvc\n"
   ]
  },
  {
   "cell_type": "code",
   "execution_count": 23,
   "metadata": {},
   "outputs": [
    {
     "data": {
      "application/vnd.jupyter.widget-view+json": {
       "model_id": "4c798ab4dd7e426fbf55c378c4e483b9",
       "version_major": 2,
       "version_minor": 0
      },
      "text/plain": [
       "Figure(layout=FigureLayout(height='420px'))"
      ]
     },
     "metadata": {},
     "output_type": "display_data"
    }
   ],
   "source": [
    "#Non-violent crime heat map.\n",
    "fignc = gmaps.figure()\n",
    "heat_layer = gmaps.heatmap_layer(locations, weights=ratingnc, dissipating=False, max_intensity=150, point_radius=.018)\n",
    "fignc.add_layer(heat_layer)\n",
    "fignc\n"
   ]
  },
  {
   "cell_type": "code",
   "execution_count": null,
   "metadata": {},
   "outputs": [],
   "source": []
  }
 ],
 "metadata": {
  "kernelspec": {
   "display_name": "Python 3",
   "language": "python",
   "name": "python3"
  },
  "language_info": {
   "codemirror_mode": {
    "name": "ipython",
    "version": 3
   },
   "file_extension": ".py",
   "mimetype": "text/x-python",
   "name": "python",
   "nbconvert_exporter": "python",
   "pygments_lexer": "ipython3",
   "version": "3.6.10"
  }
 },
 "nbformat": 4,
 "nbformat_minor": 4
}
