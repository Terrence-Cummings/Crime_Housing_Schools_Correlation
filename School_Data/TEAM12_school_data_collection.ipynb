{
 "cells": [
  {
   "cell_type": "code",
   "execution_count": 9,
   "metadata": {},
   "outputs": [],
   "source": [
    "# Import the required libraries\n",
    "import pandas as pd\n",
    "import requests\n",
    "import json\n",
    "import time\n",
    "\n",
    "# Get required API key related data'Priv\n",
    "from config import appID, appKey, gkey\n",
    "# Define base URL\n",
    "url = 'https://maps.googleapis.com/maps/api/geocode/json'"
   ]
  },
  {
   "cell_type": "code",
   "execution_count": 10,
   "metadata": {},
   "outputs": [],
   "source": [
    "# User params specific to all calls to this endpoint above\n",
    "st = 'MN'\n",
    "districtID = '2721240'\n",
    "city = 'Minneapolis'\n",
    "perPage = '50'\n",
    "#school_levels = ['Elementary', 'Middle', 'High', 'Alt', 'Private']\n",
    "school_levels = ['Elementary', 'Middle', 'High', 'Alt']"
   ]
  },
  {
   "cell_type": "code",
   "execution_count": 11,
   "metadata": {},
   "outputs": [],
   "source": [
    "# Initialize series used to collect school data for distinct columns\n",
    "schoolid = []\n",
    "schoolName = []\n",
    "latitude = []\n",
    "longitude = []\n",
    "latlng = []\n",
    "year = []\n",
    "numberOfStudents = []\n",
    "percentFreeDiscLunch = []\n",
    "pupilTeacherRatio = []\n",
    "rankStars = []\n",
    "rankLevel = []\n",
    "rankStatewidePercentage = []\n",
    "averageStandardScore = []\n",
    "neighborhood = []"
   ]
  },
  {
   "cell_type": "code",
   "execution_count": 12,
   "metadata": {},
   "outputs": [
    {
     "name": "stdout",
     "output_type": "stream",
     "text": [
      "43\n",
      "10\n",
      "42\n",
      "7\n"
     ]
    }
   ],
   "source": [
    "for level in school_levels:\n",
    "    # Load JSON\n",
    "    jsonFileName = f\"./data/json_files/jsonFile{level}.json\"\n",
    "    with open(jsonFileName) as jsonfile:\n",
    "        json_resp = json.load(jsonfile)\n",
    "        #print(json.dumps(json_resp, indent=4, sort_keys=True))    \n",
    "        # Create Json object to extract the relevant data for each school level\n",
    "        schoolList = json_resp[\"schoolList\"]\n",
    "        # Figure out the number of schools in that particular school level category\n",
    "        schoolNum = json_resp[\"numberOfSchools\"]\n",
    "        print(schoolNum)    \n",
    "        for i in range (0, schoolNum):\n",
    "            # Generic school info\n",
    "            schoolid.append(schoolList[i][\"schoolid\"])        \n",
    "            schoolName.append(schoolList[i][\"schoolName\"])\n",
    "            latt = schoolList[i][\"address\"][\"latLong\"][\"latitude\"]\n",
    "            latitude.append(schoolList[i][\"address\"][\"latLong\"][\"latitude\"])\n",
    "            lont = schoolList[i][\"address\"][\"latLong\"][\"longitude\"]          \n",
    "            longitude.append(schoolList[i][\"address\"][\"latLong\"][\"longitude\"])\n",
    "            latlngt = f\"{latt}, {lont}\"\n",
    "            latlng.append(latlngt)\n",
    "            # School details - these fields were present in all datasets\n",
    "            year.append(schoolList[i][\"schoolYearlyDetails\"][0][\"year\"])        \n",
    "            numberOfStudents.append(schoolList[i][\"schoolYearlyDetails\"][0][\"numberOfStudents\"])\n",
    "            percentFreeDiscLunch.append(schoolList[i][\"schoolYearlyDetails\"][0][\"percentFreeDiscLunch\"])\n",
    "            pupilTeacherRatio.append(schoolList[i][\"schoolYearlyDetails\"][0][\"pupilTeacherRatio\"])\n",
    "            # Rank History data was missing from various datasets - it needs to be handled separarely\n",
    "            # Look for an empty section for a rankHistory section that is normally a dictionary\n",
    "            if schoolList[i][\"rankHistory\"] is None:\n",
    "                rankStars.append(\"NA\")\n",
    "                rankLevel.append(\"NA\")\n",
    "                rankStatewidePercentage.append(\"NA\")\n",
    "                averageStandardScore.append(\"NA\")\n",
    "            else:\n",
    "                rankStars.append(schoolList[i][\"rankHistory\"][0][\"rankStars\"])\n",
    "                rankLevel.append(schoolList[i][\"rankHistory\"][0][\"rankLevel\"])\n",
    "                rankStatewidePercentage.append(schoolList[i][\"rankHistory\"][0][\"rankStatewidePercentage\"])\n",
    "                averageStandardScore.append(schoolList[i][\"rankHistory\"][0][\"averageStandardScore\"])"
   ]
  },
  {
   "cell_type": "code",
   "execution_count": 5,
   "metadata": {},
   "outputs": [
    {
     "name": "stdout",
     "output_type": "stream",
     "text": [
      "['272124000932', '272124004172', '272124000938', '272124000941', '272124000942', '272124000943', '272124001878', '272124000945', '272124004778', '272124001868', '272124002582', '272124001870', '272124001882', '272124001866', '272124001879', '272124000970', '272124002580', '272124000978', '272124004239', '272124004742', '272124000986', '272124001014', '272124000989', '272124000991', '272124001861', '272124001057', '272124001920', '272124002476', '272124000999', '272124002144', '272124002699', '272124002177', '272124002296', '272124003434', '272124005048', '272124004991', '272124001031', '272124002178', '272124002297', '272124001054', '272124004885', '272124002700', '272124001865', '272124000936', '272124000937', '272124000965', '272124004882', '272124004574', '272124000969', '272124000988', '272124001008', '272124002581', '272124001028', '272124005036', '272124005000', '272124001922', '272124002862', '272124004930', '272124001896', '272124001903', '272124004937', '272124004940', '272124000958', '272124004884', '272124001915', '272124004928', '272124000977', '272124005042', '272124004903', '272124004994', '272124003106', '272124004934', '272124001899', '272124001908', '272124004948', '272124001898', '272124004924', '272124004188', '272124001924', '272124004557', '272124001901', '272124004900', '272124004907', '272124001026', '272124001035', '272124004975', '272124001037', '272124001933', '272124001914', '272124004290', '272124004945', '272124004950', '272124001055', '272124004889', '272124003107', '272124001948', '272124001935', '272124001936', '272124001859', '272124003022', '272124002860', '272124001857'] ['Andersen Community', 'Anishinabe Academy', 'Armatage Elementary', 'Bancroft Elementary', 'Barton Open Elementary', 'Bethune Elementary', 'Bryn Mawr Elementary', 'Burroughs Elementary', 'Cityview Community', 'Dowling Elementary', 'Early Childhood Assessment/Special', 'Ecse', 'Emerson Elementary', 'Folwell Arts Magnet', 'Green Central Park Elementary', 'Hale Elementary', 'Hall International', 'Hiawatha Elementary', 'Hmong International Academy', 'Howe Elementary', 'Jefferson Elementary', 'Jenny Lind Elementary', 'Kenny Elementary', 'Kenwood Elementary', 'Lake Harriet Lower Elementary', 'Lk Nokomis Community-Wenonah Campus', 'Loring Elementary', 'Lucy Laney @ Cleveland Park Elementary', 'Lyndale Elementary', 'Marcy Open Elementary', 'Nellie Stone Johnson Elementary', 'Northrop Elementary', 'Pillsbury Elementary', 'Pratt Elementary', 'Prekindergarten North', 'Prekindergarten South', 'Seward Elementary', 'Sheridan Elementary', 'Sullivan Elementary', 'Waite Park Elementary', 'Webster Elementary', 'Whittier International', 'Windom School', 'Anthony Middle School', 'Anwatin Middle Com & Spanish D I', 'Field Community', 'Franklin Middle School', 'Justice Page Middle School', 'Lake Harriet Upper School', 'Lk Nokomis Community-Keewaydin Campus', 'Northeast Middle', 'Olson Middle', 'Sanford Middle', '800 W Broadway', '800 W Broadway Extended', 'Alternative Learning Center Extended Day', 'American Indian Oic', 'American Indian OIC Extended', 'Basic Skills-4', 'Center School', 'Center School Extended', 'Edison High School - SWS', 'Edison Senior High', 'FAIR Senior High', 'Harrison Education Center', 'Henry High School - SWS', 'Henry Senior High', 'Heritage Academy - SWS', 'Heritage STEM Academy', 'Longfellow Alt Extended', 'Longfellow Alternative', 'Loring Nicollet Extended', 'Loring-Nicollet High', 'Menlo Park Academy', 'Menlo Park Academy Extended', 'Merc', 'MERC Extended', 'Minneapolis On Line Learning', 'Mpls. High School Alternative Program', 'North Academy Senior High', 'Plymouth Youth Center', 'Plymouth Youth Center Extended', 'Roosevelt High School - SWS', 'Roosevelt Senior High', 'South Senior High', 'Southwest High School - SWS', 'Southwest Senior High', 'Stadium View', 'Transition Plus Services', 'Voa High School', 'Volunteers of America Extended', 'Washburn High School - SWS', 'Washburn Senior High', 'Wellstone High School - SWS', 'Wellstone International High', 'Mps Metro C', 'Mps Metro Ha', 'Mps Metro Sj', 'Nonpublic Sp Educational Program', 'River Bend Educational Center', 'Ronald McDonald House', 'Special Education'] [44.953311, 44.952574, 44.900839, 44.933831, 44.925493, 44.987605, 44.974213, 44.911753, 45.01616, 44.932312, 45.004291, 44.942647, 44.968281, 44.937162, 44.940176, 44.905719, 44.996095, 44.926461, 45.010567, 44.934832, 44.955867, 45.046782, 44.899027, 44.962212, 44.929206, 44.900998, 45.036023, 45.015884, 44.941837, 44.986608, 45.007165, 44.924584, 45.010798, 44.968977, 45.004291, 44.946436, 44.960225, 44.999884, 44.952574, 45.02986, 44.994326, 44.954806, 44.89676, 44.898513, 44.972619, 44.918585, 44.99412, 44.913291, 44.913827, 44.908545, 45.021472, 45.046651, 44.938768, 44.999503, 44.999503, 44.999181, 44.961955, 44.961955, 44.999508, 44.958306, 44.958306, 45.00939, 45.00939, 44.975656, 44.982496, 45.0344, 45.0344, 44.98903, 44.98903, 44.946436, 44.946436, 44.96308, 44.96308, 45.005815, 45.005815, 44.956064, 44.956064, 44.999508, 44.947716, 44.994017, 45.001758, 45.001758, 44.994017, 44.930256, 44.945963, 44.918405, 44.918405, 44.974738, 44.947926, 44.963113, 44.963113, 44.913424, 44.913424, 44.941899, 44.94193, 44.963751, 44.994326, 44.942078, 44.994326, 44.981225, 44.969978, 44.994326] [-93.258819, -93.225694, -93.311231, -93.255809, -93.291563, -93.294774, -93.316603, -93.300333, -93.284206, -93.203893, -93.29729, -93.261952, -93.2805, -93.242932, -93.271131, -93.256832, -93.289831, -93.21212, -93.29847, -93.211082, -93.295063, -93.29241, -93.295414, -93.307806, -93.326148, -93.238304, -93.313485, -93.308954, -93.283708, -93.250008, -93.290025, -93.22653, -93.233939, -93.214074, -93.29729, -93.227762, -93.230785, -93.262569, -93.225694, -93.234604, -93.256289, -93.284132, -93.27997, -93.298882, -93.316827, -93.269628, -93.290291, -93.279083, -93.316838, -93.229299, -93.233733, -93.301311, -93.213351, -93.289995, -93.289995, -93.250117, -93.246049, -93.246049, -93.296809, -93.252068, -93.252068, -93.251681, -93.251681, -93.277353, -93.299671, -93.305331, -93.305331, -93.226261, -93.226261, -93.227762, -93.227762, -93.277431, -93.277431, -93.26666, -93.26666, -93.282634, -93.282634, -93.296809, -93.239287, -93.300234, -93.306603, -93.306603, -93.300234, -93.231481, -93.244269, -93.324337, -93.324337, -93.261549, -93.243024, -93.24599, -93.24599, -93.282531, -93.282531, -93.261614, -93.261265, -93.27428, -93.256289, -93.260772, -93.256289, -93.299478, -93.225907, -93.256289] ['44.953311, -93.258819', '44.952574, -93.225694', '44.900839, -93.311231', '44.933831, -93.255809', '44.925493, -93.291563', '44.987605, -93.294774', '44.974213, -93.316603', '44.911753, -93.300333', '45.01616, -93.284206', '44.932312, -93.203893', '45.004291, -93.29729', '44.942647, -93.261952', '44.968281, -93.2805', '44.937162, -93.242932', '44.940176, -93.271131', '44.905719, -93.256832', '44.996095, -93.289831', '44.926461, -93.21212', '45.010567, -93.29847', '44.934832, -93.211082', '44.955867, -93.295063', '45.046782, -93.29241', '44.899027, -93.295414', '44.962212, -93.307806', '44.929206, -93.326148', '44.900998, -93.238304', '45.036023, -93.313485', '45.015884, -93.308954', '44.941837, -93.283708', '44.986608, -93.250008', '45.007165, -93.290025', '44.924584, -93.22653', '45.010798, -93.233939', '44.968977, -93.214074', '45.004291, -93.29729', '44.946436, -93.227762', '44.960225, -93.230785', '44.999884, -93.262569', '44.952574, -93.225694', '45.02986, -93.234604', '44.994326, -93.256289', '44.954806, -93.284132', '44.89676, -93.27997', '44.898513, -93.298882', '44.972619, -93.316827', '44.918585, -93.269628', '44.99412, -93.290291', '44.913291, -93.279083', '44.913827, -93.316838', '44.908545, -93.229299', '45.021472, -93.233733', '45.046651, -93.301311', '44.938768, -93.213351', '44.999503, -93.289995', '44.999503, -93.289995', '44.999181, -93.250117', '44.961955, -93.246049', '44.961955, -93.246049', '44.999508, -93.296809', '44.958306, -93.252068', '44.958306, -93.252068', '45.00939, -93.251681', '45.00939, -93.251681', '44.975656, -93.277353', '44.982496, -93.299671', '45.0344, -93.305331', '45.0344, -93.305331', '44.98903, -93.226261', '44.98903, -93.226261', '44.946436, -93.227762', '44.946436, -93.227762', '44.96308, -93.277431', '44.96308, -93.277431', '45.005815, -93.26666', '45.005815, -93.26666', '44.956064, -93.282634', '44.956064, -93.282634', '44.999508, -93.296809', '44.947716, -93.239287', '44.994017, -93.300234', '45.001758, -93.306603', '45.001758, -93.306603', '44.994017, -93.300234', '44.930256, -93.231481', '44.945963, -93.244269', '44.918405, -93.324337', '44.918405, -93.324337', '44.974738, -93.261549', '44.947926, -93.243024', '44.963113, -93.24599', '44.963113, -93.24599', '44.913424, -93.282531', '44.913424, -93.282531', '44.941899, -93.261614', '44.94193, -93.261265', '44.963751, -93.27428', '44.994326, -93.256289', '44.942078, -93.260772', '44.994326, -93.256289', '44.981225, -93.299478', '44.969978, -93.225907', '44.994326, -93.256289'] [2019, 2019, 2019, 2019, 2019, 2019, 2019, 2019, 2019, 2019, 2019, 2019, 2019, 2019, 2019, 2019, 2019, 2019, 2019, 2019, 2019, 2019, 2019, 2019, 2019, 2019, 2019, 2019, 2019, 2019, 2019, 2019, 2019, 2019, 2019, 2019, 2019, 2019, 2019, 2019, 2019, 2019, 2019, 2019, 2019, 2019, 2019, 2019, 2019, 2019, 2019, 2019, 2019, 2019, 2019, 2019, 2019, 2019, 2019, 2019, 2019, 2019, 2019, 2019, 2019, 2019, 2019, 2019, 2019, 2019, 2019, 2019, 2019, 2019, 2019, 2019, 2019, 2019, 2019, 2019, 2019, 2019, 2019, 2019, 2019, 2019, 2019, 2019, 2019, 2019, 2019, 2019, 2019, 2019, 2019, 2019, 2019, 2019, 2019, 2019, 2019, 2019] [0, 0, 5, 1, 2, 0, 0, 5, 0, 3, 'NA', 'NA', 0, 0, 0, 5, 0, 'NA', 0, 4, 0, 0, 4, 3, 'NA', 'NA', 1, 0, 1, 1, 0, 4, 1, 1, 'NA', 'NA', 1, 0, 0, 2, 1, 0, 2, 4, 1, 5, 0, 4, 5, 2, 0, 0, 2, 'NA', 'NA', 'NA', 'NA', 'NA', 'NA', 'NA', 'NA', 'NA', 1, 1, 'NA', 'NA', 'NA', 'NA', 0, 'NA', 'NA', 'NA', 'NA', 'NA', 'NA', 'NA', 'NA', 'NA', 'NA', 0, 0, 'NA', 'NA', 1, 1, 'NA', 2, 'NA', 'NA', 'NA', 'NA', 'NA', 3, 0, 0, 'NA', 'NA', 'NA', 'NA', 'NA', 'NA', 'NA'] ['Elementary', 'Elementary', 'Elementary', 'Elementary', 'Elementary', 'Elementary', 'Elementary', 'Elementary', 'Elementary', 'Elementary', 'NA', 'NA', 'Elementary', 'Elementary', 'Elementary', 'Elementary', 'Elementary', 'NA', 'Elementary', 'Elementary', 'Elementary', 'Elementary', 'Elementary', 'Elementary', 'NA', 'NA', 'Elementary', 'Elementary', 'Elementary', 'Elementary', 'Elementary', 'Elementary', 'Elementary', 'Elementary', 'NA', 'NA', 'Elementary', 'Elementary', 'Elementary', 'Elementary', 'Elementary', 'Elementary', 'Elementary', 'Middle', 'Middle', 'Middle', 'Middle', 'Middle', 'Middle', 'Middle', 'Middle', 'Middle', 'Middle', 'NA', 'NA', 'NA', 'NA', 'NA', 'NA', 'NA', 'NA', 'NA', 'High', 'High', 'NA', 'NA', 'NA', 'NA', 'High', 'NA', 'NA', 'NA', 'NA', 'NA', 'NA', 'NA', 'NA', 'NA', 'NA', 'High', 'High', 'NA', 'NA', 'High', 'High', 'NA', 'High', 'NA', 'NA', 'NA', 'NA', 'NA', 'High', 'High', 'High', 'NA', 'NA', 'NA', 'NA', 'NA', 'NA', 'NA'] [2.56, 0.47, 97.09, 11.64, 40.05, 1.98, 0.7, 94.76, 1.51, 52.15, 'NA', 'NA', 9.31, 2.44, 6.17, 97.21, 2.1, 'NA', 1.63, 79.28, 3.73, 3.61, 78.58, 50.76, 'NA', 'NA', 15.6, 8.03, 22.47, 23.4, 8.85, 84.05, 16.07, 18.98, 'NA', 'NA', 16.18, 8.61, 9.2, 48.2, 21.07, 8.27, 40.16, 71.32, 18.3, 93.21, 1.89, 84.15, 94.72, 35.09, 9.43, 9.06, 33.02, 'NA', 'NA', 'NA', 'NA', 'NA', 'NA', 'NA', 'NA', 'NA', 18.5, 29.27, 'NA', 'NA', 'NA', 'NA', 4.67, 'NA', 'NA', 'NA', 'NA', 'NA', 'NA', 'NA', 'NA', 'NA', 'NA', 0.61, 4.27, 'NA', 'NA', 21.14, 18.29, 'NA', 39.23, 'NA', 'NA', 'NA', 'NA', 'NA', 68.09, 6.91, 0.41, 'NA', 'NA', 'NA', 'NA', 'NA', 'NA', 'NA'] [2.873, 1.5418, 90.13083, 12.28741, 49.31851, 2.41523, 1.69797, 87.92929, 2.22555, 59.61289, 'NA', 'NA', 9.32469, 2.82346, 5.36134, 90.25968, 2.43874, 'NA', 2.23857, 76.3743, 3.81075, 3.8089, 75.29149, 58.57924, 'NA', 'NA', 19.20386, 7.13943, 29.37834, 31.02546, 8.36864, 80.0257, 19.72366, 23.6827, 'NA', 'NA', 19.86322, 7.60146, 9.04974, 57.1129, 26.56811, 7.30605, 49.3706, 67.90999, 21.30839, 86.89854, 2.97745, 77.89821, 89.59215, 39.72721, 9.52481, 9.09795, 37.96272, 'NA', 'NA', 'NA', 'NA', 'NA', 'NA', 'NA', 'NA', 'NA', 19.12167, 36.14362, 'NA', 'NA', 'NA', 'NA', 5.04569, 'NA', 'NA', 'NA', 'NA', 'NA', 'NA', 'NA', 'NA', 'NA', 'NA', 3.0479, 4.85561, 'NA', 'NA', 23.7834, 18.44831, 'NA', 48.18855, 'NA', 'NA', 'NA', 'NA', 'NA', 68.56458, 6.07713, 2.98818, 'NA', 'NA', 'NA', 'NA', 'NA', 'NA', 'NA'] [890, 255, 615, 505, 699, 310, 340, 740, 327, 477, 0, 555, 489, 814, 323, 645, 235, 248, 525, 224, 480, 389, 478, 401, 503, 283, 403, 456, 495, 739, 427, 493, 322, 274, 6, 0, 846, 276, 587, 409, 297, 528, 581, 781, 555, 517, 368, 844, 634, 463, 502, 387, 970, 32, 35, 8, 36, 0, 0, 47, 1, 0, 1005, 223, 29, 1, 1057, 0, 203, 0, 72, 0, 58, 72, 0, 51, 7, 54, 0, 447, 100, 17, 1, 1014, 1739, 0, 1923, 39, 269, 92, 13, 0, 1632, 17, 208, 18, 34, 23, 0, 86, 7, 0] [93.48, 91.76, 24.55, 77.43, 43.63, 94.52, 79.71, 12.3, 91.44, 44.86, None, 52.43, 69.53, 85.63, 92.57, 12.09, 95.74, 28.23, 88.76, 37.05, 92.5, 92.29, 23.22, 20.2, 5.17, 40.64, 65.76, 83.99, 54.95, 51.29, 96.02, 21.3, 83.85, 57.66, None, None, 54.49, 83.7, 87.22, 44.74, 51.18, 75.57, 34.25, 37.9, 66.67, 18.38, 87.77, 42.3, 6.94, 45.36, 73.31, 81.4, 56.7, 78.12, 8.57, None, 83.33, None, None, 89.36, 0.0, None, 74.93, 61.88, 86.21, 0.0, 68.31, None, 85.22, None, 97.22, None, 44.83, 72.22, None, 64.71, None, 40.74, None, 80.98, 83.0, 82.35, 0.0, 58.97, 54.57, None, 37.44, 92.31, 73.61, 81.52, 76.92, None, 37.87, 82.35, 95.19, 83.33, 91.18, 86.96, None, 93.02, None, None] [11.0, 13.4, 18.8, 11.9, 16.9, 10.8, 12.6, 19.6, 11.8, 14.4, None, 18.4, 14.6, 13.3, 10.6, 20.1, 10.4, 15.4, 12.3, 16.6, 11.8, 10.4, 17.9, 19.6, 19.4, 15.9, 15.5, 11.7, 14.4, 16.3, 9.9, 17.5, 10.8, 15.6, None, None, 17.8, 8.9, 10.8, 17.0, 13.3, 13.5, 16.1, 19.3, 12.8, 21.2, 16.4, 18.4, 21.6, 17.1, 15.1, 14.8, 18.3, 6.4, None, None, 13.7, None, None, 11.1, None, None, 13.9, 20.6, 3.0, None, 15.6, None, 14.4, None, 9.4, None, 16.1, 15.6, None, 14.1, None, None, None, 6.2, 10.5, None, None, 14.5, 16.6, None, 18.1, 4.3, 9.0, 14.9, None, None, 20.8, None, 9.1, 2.5, 11.1, 5.7, None, 4.2, 8.2, 0.0]\n"
     ]
    }
   ],
   "source": [
    "\n",
    "\n",
    "    print(f\"{schoolid} {schoolName} {latitude} {longitude} {latlng} {year} {rankStars} {rankLevel} {rankStatewidePercentage} \\\n",
    "    {averageStandardScore} {numberOfStudents} {percentFreeDiscLunch} {pupilTeacherRatio}\")\n"
   ]
  },
  {
   "cell_type": "code",
   "execution_count": null,
   "metadata": {},
   "outputs": [],
   "source": [
    "# User params specific to all calls to this endpoint above\n",
    "for lat_lng in latlng:\n",
    "    params = dict(latlng=lat_lng, key=gkey)\n",
    "    res = requests.get(url, params=params)\n",
    "    # Delay processing by five seconds due to API provider restrictions on usage\n",
    "    time.sleep(5)\n",
    "    json_resp = res.json()\n",
    "    json_resp_tmp = json_resp['results'][0]['address_components'][2]['long_name']\n",
    "    neighborhood.append(json_resp_tmp)"
   ]
  },
  {
   "cell_type": "code",
   "execution_count": 9,
   "metadata": {},
   "outputs": [
    {
     "name": "stdout",
     "output_type": "stream",
     "text": [
      "['272124000932', '272124004172', '272124000938', '272124000941', '272124000942', '272124000943', '272124001878', '272124000945', '272124004778', '272124001868', '272124002582', '272124001870', '272124001882', '272124001866', '272124001879', '272124000970', '272124002580', '272124000978', '272124004239', '272124004742', '272124000986', '272124001014', '272124000989', '272124000991', '272124001861', '272124001057', '272124001920', '272124002476', '272124000999', '272124002144', '272124002699', '272124002177', '272124002296', '272124003434', '272124005048', '272124004991', '272124001031', '272124002178', '272124002297', '272124001054', '272124004885', '272124002700', '272124001865', '272124000936', '272124000937', '272124000965', '272124004882', '272124004574', '272124000969', '272124000988', '272124001008', '272124002581', '272124001028', '272124005036', '272124005000', '272124001922', '272124002862', '272124004930', '272124001896', '272124001903', '272124004937', '272124004940', '272124000958', '272124004884', '272124001915', '272124004928', '272124000977', '272124005042', '272124004903', '272124004994', '272124003106', '272124004934', '272124001899', '272124001908', '272124004948', '272124001898', '272124004924', '272124004188', '272124001924', '272124004557', '272124001901', '272124004900', '272124004907', '272124001026', '272124001035', '272124004975', '272124001037', '272124001933', '272124001914', '272124004290', '272124004945', '272124004950', '272124001055', '272124004889', '272124003107', '272124001948', '272124001935', '272124001936', '272124001859', '272124003022', '272124002860', '272124001857'] ['Andersen Community', 'Anishinabe Academy', 'Armatage Elementary', 'Bancroft Elementary', 'Barton Open Elementary', 'Bethune Elementary', 'Bryn Mawr Elementary', 'Burroughs Elementary', 'Cityview Community', 'Dowling Elementary', 'Early Childhood Assessment/Special', 'Ecse', 'Emerson Elementary', 'Folwell Arts Magnet', 'Green Central Park Elementary', 'Hale Elementary', 'Hall International', 'Hiawatha Elementary', 'Hmong International Academy', 'Howe Elementary', 'Jefferson Elementary', 'Jenny Lind Elementary', 'Kenny Elementary', 'Kenwood Elementary', 'Lake Harriet Lower Elementary', 'Lk Nokomis Community-Wenonah Campus', 'Loring Elementary', 'Lucy Laney @ Cleveland Park Elementary', 'Lyndale Elementary', 'Marcy Open Elementary', 'Nellie Stone Johnson Elementary', 'Northrop Elementary', 'Pillsbury Elementary', 'Pratt Elementary', 'Prekindergarten North', 'Prekindergarten South', 'Seward Elementary', 'Sheridan Elementary', 'Sullivan Elementary', 'Waite Park Elementary', 'Webster Elementary', 'Whittier International', 'Windom School', 'Anthony Middle School', 'Anwatin Middle Com & Spanish D I', 'Field Community', 'Franklin Middle School', 'Justice Page Middle School', 'Lake Harriet Upper School', 'Lk Nokomis Community-Keewaydin Campus', 'Northeast Middle', 'Olson Middle', 'Sanford Middle', '800 W Broadway', '800 W Broadway Extended', 'Alternative Learning Center Extended Day', 'American Indian Oic', 'American Indian OIC Extended', 'Basic Skills-4', 'Center School', 'Center School Extended', 'Edison High School - SWS', 'Edison Senior High', 'FAIR Senior High', 'Harrison Education Center', 'Henry High School - SWS', 'Henry Senior High', 'Heritage Academy - SWS', 'Heritage STEM Academy', 'Longfellow Alt Extended', 'Longfellow Alternative', 'Loring Nicollet Extended', 'Loring-Nicollet High', 'Menlo Park Academy', 'Menlo Park Academy Extended', 'Merc', 'MERC Extended', 'Minneapolis On Line Learning', 'Mpls. High School Alternative Program', 'North Academy Senior High', 'Plymouth Youth Center', 'Plymouth Youth Center Extended', 'Roosevelt High School - SWS', 'Roosevelt Senior High', 'South Senior High', 'Southwest High School - SWS', 'Southwest Senior High', 'Stadium View', 'Transition Plus Services', 'Voa High School', 'Volunteers of America Extended', 'Washburn High School - SWS', 'Washburn Senior High', 'Wellstone High School - SWS', 'Wellstone International High', 'Mps Metro C', 'Mps Metro Ha', 'Mps Metro Sj', 'Nonpublic Sp Educational Program', 'River Bend Educational Center', 'Ronald McDonald House', 'Special Education'] [44.953311, 44.952574, 44.900839, 44.933831, 44.925493, 44.987605, 44.974213, 44.911753, 45.01616, 44.932312, 45.004291, 44.942647, 44.968281, 44.937162, 44.940176, 44.905719, 44.996095, 44.926461, 45.010567, 44.934832, 44.955867, 45.046782, 44.899027, 44.962212, 44.929206, 44.900998, 45.036023, 45.015884, 44.941837, 44.986608, 45.007165, 44.924584, 45.010798, 44.968977, 45.004291, 44.946436, 44.960225, 44.999884, 44.952574, 45.02986, 44.994326, 44.954806, 44.89676, 44.898513, 44.972619, 44.918585, 44.99412, 44.913291, 44.913827, 44.908545, 45.021472, 45.046651, 44.938768, 44.999503, 44.999503, 44.999181, 44.961955, 44.961955, 44.999508, 44.958306, 44.958306, 45.00939, 45.00939, 44.975656, 44.982496, 45.0344, 45.0344, 44.98903, 44.98903, 44.946436, 44.946436, 44.96308, 44.96308, 45.005815, 45.005815, 44.956064, 44.956064, 44.999508, 44.947716, 44.994017, 45.001758, 45.001758, 44.994017, 44.930256, 44.945963, 44.918405, 44.918405, 44.974738, 44.947926, 44.963113, 44.963113, 44.913424, 44.913424, 44.941899, 44.94193, 44.963751, 44.994326, 44.942078, 44.994326, 44.981225, 44.969978, 44.994326] [-93.258819, -93.225694, -93.311231, -93.255809, -93.291563, -93.294774, -93.316603, -93.300333, -93.284206, -93.203893, -93.29729, -93.261952, -93.2805, -93.242932, -93.271131, -93.256832, -93.289831, -93.21212, -93.29847, -93.211082, -93.295063, -93.29241, -93.295414, -93.307806, -93.326148, -93.238304, -93.313485, -93.308954, -93.283708, -93.250008, -93.290025, -93.22653, -93.233939, -93.214074, -93.29729, -93.227762, -93.230785, -93.262569, -93.225694, -93.234604, -93.256289, -93.284132, -93.27997, -93.298882, -93.316827, -93.269628, -93.290291, -93.279083, -93.316838, -93.229299, -93.233733, -93.301311, -93.213351, -93.289995, -93.289995, -93.250117, -93.246049, -93.246049, -93.296809, -93.252068, -93.252068, -93.251681, -93.251681, -93.277353, -93.299671, -93.305331, -93.305331, -93.226261, -93.226261, -93.227762, -93.227762, -93.277431, -93.277431, -93.26666, -93.26666, -93.282634, -93.282634, -93.296809, -93.239287, -93.300234, -93.306603, -93.306603, -93.300234, -93.231481, -93.244269, -93.324337, -93.324337, -93.261549, -93.243024, -93.24599, -93.24599, -93.282531, -93.282531, -93.261614, -93.261265, -93.27428, -93.256289, -93.260772, -93.256289, -93.299478, -93.225907, -93.256289] ['44.953311, -93.258819', '44.952574, -93.225694', '44.900839, -93.311231', '44.933831, -93.255809', '44.925493, -93.291563', '44.987605, -93.294774', '44.974213, -93.316603', '44.911753, -93.300333', '45.01616, -93.284206', '44.932312, -93.203893', '45.004291, -93.29729', '44.942647, -93.261952', '44.968281, -93.2805', '44.937162, -93.242932', '44.940176, -93.271131', '44.905719, -93.256832', '44.996095, -93.289831', '44.926461, -93.21212', '45.010567, -93.29847', '44.934832, -93.211082', '44.955867, -93.295063', '45.046782, -93.29241', '44.899027, -93.295414', '44.962212, -93.307806', '44.929206, -93.326148', '44.900998, -93.238304', '45.036023, -93.313485', '45.015884, -93.308954', '44.941837, -93.283708', '44.986608, -93.250008', '45.007165, -93.290025', '44.924584, -93.22653', '45.010798, -93.233939', '44.968977, -93.214074', '45.004291, -93.29729', '44.946436, -93.227762', '44.960225, -93.230785', '44.999884, -93.262569', '44.952574, -93.225694', '45.02986, -93.234604', '44.994326, -93.256289', '44.954806, -93.284132', '44.89676, -93.27997', '44.898513, -93.298882', '44.972619, -93.316827', '44.918585, -93.269628', '44.99412, -93.290291', '44.913291, -93.279083', '44.913827, -93.316838', '44.908545, -93.229299', '45.021472, -93.233733', '45.046651, -93.301311', '44.938768, -93.213351', '44.999503, -93.289995', '44.999503, -93.289995', '44.999181, -93.250117', '44.961955, -93.246049', '44.961955, -93.246049', '44.999508, -93.296809', '44.958306, -93.252068', '44.958306, -93.252068', '45.00939, -93.251681', '45.00939, -93.251681', '44.975656, -93.277353', '44.982496, -93.299671', '45.0344, -93.305331', '45.0344, -93.305331', '44.98903, -93.226261', '44.98903, -93.226261', '44.946436, -93.227762', '44.946436, -93.227762', '44.96308, -93.277431', '44.96308, -93.277431', '45.005815, -93.26666', '45.005815, -93.26666', '44.956064, -93.282634', '44.956064, -93.282634', '44.999508, -93.296809', '44.947716, -93.239287', '44.994017, -93.300234', '45.001758, -93.306603', '45.001758, -93.306603', '44.994017, -93.300234', '44.930256, -93.231481', '44.945963, -93.244269', '44.918405, -93.324337', '44.918405, -93.324337', '44.974738, -93.261549', '44.947926, -93.243024', '44.963113, -93.24599', '44.963113, -93.24599', '44.913424, -93.282531', '44.913424, -93.282531', '44.941899, -93.261614', '44.94193, -93.261265', '44.963751, -93.27428', '44.994326, -93.256289', '44.942078, -93.260772', '44.994326, -93.256289', '44.981225, -93.299478', '44.969978, -93.225907', '44.994326, -93.256289'] [2019, 2019, 2019, 2019, 2019, 2019, 2019, 2019, 2019, 2019, 2019, 2019, 2019, 2019, 2019, 2019, 2019, 2019, 2019, 2019, 2019, 2019, 2019, 2019, 2019, 2019, 2019, 2019, 2019, 2019, 2019, 2019, 2019, 2019, 2019, 2019, 2019, 2019, 2019, 2019, 2019, 2019, 2019, 2019, 2019, 2019, 2019, 2019, 2019, 2019, 2019, 2019, 2019, 2019, 2019, 2019, 2019, 2019, 2019, 2019, 2019, 2019, 2019, 2019, 2019, 2019, 2019, 2019, 2019, 2019, 2019, 2019, 2019, 2019, 2019, 2019, 2019, 2019, 2019, 2019, 2019, 2019, 2019, 2019, 2019, 2019, 2019, 2019, 2019, 2019, 2019, 2019, 2019, 2019, 2019, 2019, 2019, 2019, 2019, 2019, 2019, 2019] [0, 0, 5, 1, 2, 0, 0, 5, 0, 3, 'NA', 'NA', 0, 0, 0, 5, 0, 'NA', 0, 4, 0, 0, 4, 3, 'NA', 'NA', 1, 0, 1, 1, 0, 4, 1, 1, 'NA', 'NA', 1, 0, 0, 2, 1, 0, 2, 4, 1, 5, 0, 4, 5, 2, 0, 0, 2, 'NA', 'NA', 'NA', 'NA', 'NA', 'NA', 'NA', 'NA', 'NA', 1, 1, 'NA', 'NA', 'NA', 'NA', 0, 'NA', 'NA', 'NA', 'NA', 'NA', 'NA', 'NA', 'NA', 'NA', 'NA', 0, 0, 'NA', 'NA', 1, 1, 'NA', 2, 'NA', 'NA', 'NA', 'NA', 'NA', 3, 0, 0, 'NA', 'NA', 'NA', 'NA', 'NA', 'NA', 'NA'] ['Elementary', 'Elementary', 'Elementary', 'Elementary', 'Elementary', 'Elementary', 'Elementary', 'Elementary', 'Elementary', 'Elementary', 'NA', 'NA', 'Elementary', 'Elementary', 'Elementary', 'Elementary', 'Elementary', 'NA', 'Elementary', 'Elementary', 'Elementary', 'Elementary', 'Elementary', 'Elementary', 'NA', 'NA', 'Elementary', 'Elementary', 'Elementary', 'Elementary', 'Elementary', 'Elementary', 'Elementary', 'Elementary', 'NA', 'NA', 'Elementary', 'Elementary', 'Elementary', 'Elementary', 'Elementary', 'Elementary', 'Elementary', 'Middle', 'Middle', 'Middle', 'Middle', 'Middle', 'Middle', 'Middle', 'Middle', 'Middle', 'Middle', 'NA', 'NA', 'NA', 'NA', 'NA', 'NA', 'NA', 'NA', 'NA', 'High', 'High', 'NA', 'NA', 'NA', 'NA', 'High', 'NA', 'NA', 'NA', 'NA', 'NA', 'NA', 'NA', 'NA', 'NA', 'NA', 'High', 'High', 'NA', 'NA', 'High', 'High', 'NA', 'High', 'NA', 'NA', 'NA', 'NA', 'NA', 'High', 'High', 'High', 'NA', 'NA', 'NA', 'NA', 'NA', 'NA', 'NA'] [2.56, 0.47, 97.09, 11.64, 40.05, 1.98, 0.7, 94.76, 1.51, 52.15, 'NA', 'NA', 9.31, 2.44, 6.17, 97.21, 2.1, 'NA', 1.63, 79.28, 3.73, 3.61, 78.58, 50.76, 'NA', 'NA', 15.6, 8.03, 22.47, 23.4, 8.85, 84.05, 16.07, 18.98, 'NA', 'NA', 16.18, 8.61, 9.2, 48.2, 21.07, 8.27, 40.16, 71.32, 18.3, 93.21, 1.89, 84.15, 94.72, 35.09, 9.43, 9.06, 33.02, 'NA', 'NA', 'NA', 'NA', 'NA', 'NA', 'NA', 'NA', 'NA', 18.5, 29.27, 'NA', 'NA', 'NA', 'NA', 4.67, 'NA', 'NA', 'NA', 'NA', 'NA', 'NA', 'NA', 'NA', 'NA', 'NA', 0.61, 4.27, 'NA', 'NA', 21.14, 18.29, 'NA', 39.23, 'NA', 'NA', 'NA', 'NA', 'NA', 68.09, 6.91, 0.41, 'NA', 'NA', 'NA', 'NA', 'NA', 'NA', 'NA']     [2.873, 1.5418, 90.13083, 12.28741, 49.31851, 2.41523, 1.69797, 87.92929, 2.22555, 59.61289, 'NA', 'NA', 9.32469, 2.82346, 5.36134, 90.25968, 2.43874, 'NA', 2.23857, 76.3743, 3.81075, 3.8089, 75.29149, 58.57924, 'NA', 'NA', 19.20386, 7.13943, 29.37834, 31.02546, 8.36864, 80.0257, 19.72366, 23.6827, 'NA', 'NA', 19.86322, 7.60146, 9.04974, 57.1129, 26.56811, 7.30605, 49.3706, 67.90999, 21.30839, 86.89854, 2.97745, 77.89821, 89.59215, 39.72721, 9.52481, 9.09795, 37.96272, 'NA', 'NA', 'NA', 'NA', 'NA', 'NA', 'NA', 'NA', 'NA', 19.12167, 36.14362, 'NA', 'NA', 'NA', 'NA', 5.04569, 'NA', 'NA', 'NA', 'NA', 'NA', 'NA', 'NA', 'NA', 'NA', 'NA', 3.0479, 4.85561, 'NA', 'NA', 23.7834, 18.44831, 'NA', 48.18855, 'NA', 'NA', 'NA', 'NA', 'NA', 68.56458, 6.07713, 2.98818, 'NA', 'NA', 'NA', 'NA', 'NA', 'NA', 'NA'] [890, 255, 615, 505, 699, 310, 340, 740, 327, 477, 0, 555, 489, 814, 323, 645, 235, 248, 525, 224, 480, 389, 478, 401, 503, 283, 403, 456, 495, 739, 427, 493, 322, 274, 6, 0, 846, 276, 587, 409, 297, 528, 581, 781, 555, 517, 368, 844, 634, 463, 502, 387, 970, 32, 35, 8, 36, 0, 0, 47, 1, 0, 1005, 223, 29, 1, 1057, 0, 203, 0, 72, 0, 58, 72, 0, 51, 7, 54, 0, 447, 100, 17, 1, 1014, 1739, 0, 1923, 39, 269, 92, 13, 0, 1632, 17, 208, 18, 34, 23, 0, 86, 7, 0] [93.48, 91.76, 24.55, 77.43, 43.63, 94.52, 79.71, 12.3, 91.44, 44.86, None, 52.43, 69.53, 85.63, 92.57, 12.09, 95.74, 28.23, 88.76, 37.05, 92.5, 92.29, 23.22, 20.2, 5.17, 40.64, 65.76, 83.99, 54.95, 51.29, 96.02, 21.3, 83.85, 57.66, None, None, 54.49, 83.7, 87.22, 44.74, 51.18, 75.57, 34.25, 37.9, 66.67, 18.38, 87.77, 42.3, 6.94, 45.36, 73.31, 81.4, 56.7, 78.12, 8.57, None, 83.33, None, None, 89.36, 0.0, None, 74.93, 61.88, 86.21, 0.0, 68.31, None, 85.22, None, 97.22, None, 44.83, 72.22, None, 64.71, None, 40.74, None, 80.98, 83.0, 82.35, 0.0, 58.97, 54.57, None, 37.44, 92.31, 73.61, 81.52, 76.92, None, 37.87, 82.35, 95.19, 83.33, 91.18, 86.96, None, 93.02, None, None] [11.0, 13.4, 18.8, 11.9, 16.9, 10.8, 12.6, 19.6, 11.8, 14.4, None, 18.4, 14.6, 13.3, 10.6, 20.1, 10.4, 15.4, 12.3, 16.6, 11.8, 10.4, 17.9, 19.6, 19.4, 15.9, 15.5, 11.7, 14.4, 16.3, 9.9, 17.5, 10.8, 15.6, None, None, 17.8, 8.9, 10.8, 17.0, 13.3, 13.5, 16.1, 19.3, 12.8, 21.2, 16.4, 18.4, 21.6, 17.1, 15.1, 14.8, 18.3, 6.4, None, None, 13.7, None, None, 11.1, None, None, 13.9, 20.6, 3.0, None, 15.6, None, 14.4, None, 9.4, None, 16.1, 15.6, None, 14.1, None, None, None, 6.2, 10.5, None, None, 14.5, 16.6, None, 18.1, 4.3, 9.0, 14.9, None, None, 20.8, None, 9.1, 2.5, 11.1, 5.7, None, 4.2, 8.2, 0.0] ['Midtown Phillips', 'Longfellow', 'Southwest Minneapolis', 'Bancroft', 'Southwest Minneapolis', 'Near North', 'Calhoun Isles', 'Southwest Minneapolis', 'Camden', 'Howe', 'Jordan', 'Powderhorn Park', 'Central Minneapolis', 'Standish', 'Central', 'Hale', 'Near North', 'Hiawatha', 'Jordan', 'Howe', 'Lowry Hill East', 'Camden', 'Southwest Minneapolis', 'Calhoun Isles', 'Southwest Minneapolis', 'Wenonah', 'Camden', 'Camden', 'Powderhorn', 'Saint Anthony Main', 'Hawthorne', 'Ericsson', 'Windom Park', 'Prospect Park', 'Jordan', 'Longfellow', 'Seward', 'Northeast Minneapolis', 'Longfellow', 'Northeast Minneapolis', 'Northeast Minneapolis', 'Powderhorn', 'Southwest Minneapolis', 'Southwest Minneapolis', 'Calhoun Isles', 'Nokomis', 'Near North', 'Southwest Minneapolis', 'Southwest Minneapolis', 'Nokomis', 'Northeast Minneapolis', 'Camden', 'Howe', 'Hawthorne', 'Hawthorne', 'Logan Park', 'Seward', 'Seward', 'Jordan', 'Phillips', 'Phillips', 'Northeast Minneapolis', 'Northeast Minneapolis', 'Central Minneapolis', 'Harrison', 'Camden', 'Camden', 'Como', 'Como', 'Longfellow', 'Longfellow', 'Central Minneapolis', 'Central Minneapolis', 'Bottineau', 'Bottineau', 'Powderhorn', 'Powderhorn', 'Jordan', 'Powderhorn', 'Near North', 'Willard-Hay', 'Willard-Hay', 'Near North', 'Standish', 'Powderhorn', 'Southwest Minneapolis', 'Southwest Minneapolis', 'Central Minneapolis', 'Powderhorn', 'Seward', 'Seward', 'Southwest Minneapolis', 'Southwest Minneapolis', 'Powderhorn Park', 'Powderhorn Park', 'Central Minneapolis', 'Northeast Minneapolis', 'Powderhorn Park', 'Northeast Minneapolis', 'Glenwood Avenue', 'Prospect Park', 'Northeast Minneapolis']\n"
     ]
    }
   ],
   "source": [
    "print(f\"{schoolid} {schoolName} {latitude} {longitude} {latlng} {year} {rankStars} {rankLevel} {rankStatewidePercentage} \\\n",
    "    {averageStandardScore} {numberOfStudents} {percentFreeDiscLunch} {pupilTeacherRatio} {neighborhood}\")"
   ]
  },
  {
   "cell_type": "code",
   "execution_count": null,
   "metadata": {},
   "outputs": [],
   "source": [
    "neighborhood\n"
   ]
  },
  {
   "cell_type": "code",
   "execution_count": null,
   "metadata": {},
   "outputs": [],
   "source": [
    "# Combine individual series above to create a dataframe consisting of all of them\n",
    "minneapolis_schools = {'School ID': schoolid, 'School Name': schoolName, 'Latitude Longitude': latlng, 'Student Population': numberOfStudents,\n",
    "                  'Free Discount Lunch': percentFreeDiscLunch, 'Students Per Teacher': pupilTeacherRatio, 'Rank Stars': rankStars, \n",
    "                  'Rank Level': rankLevel, 'Rank Statewide': rankStatewidePercentage, 'Average Standard Score': averageStandardScore,\n",
    "                  'Neighborhood': neighborhood}\n",
    "# Combine individual series above to create a dataframe consisting of all of them\n",
    "minneapolis_schools = {'School ID': schoolid, 'School Name': schoolName, 'Latitude Longitude': latlng, 'Student Population': numberOfStudents,\n",
    "                  'Free Discount Lunch': percentFreeDiscLunch, 'Students Per Teacher': pupilTeacherRatio, 'Rank Stars': rankStars, \n",
    "                  'Rank Level': rankLevel, 'Rank Statewide': rankStatewidePercentage, 'Average Standard Score': averageStandardScore,\n",
    "                  'Neighborhood': neighborhood}\n",
    "\n",
    "minneapolis_schools_df = pd.DataFrame(minneapolis_schools)  \n",
    "minneapolis_schools_df\n"
   ]
  },
  {
   "cell_type": "code",
   "execution_count": null,
   "metadata": {},
   "outputs": [],
   "source": [
    "# Output File (CSV)\n",
    "output_data_file = \"data/csv_files/minneapolis_schools.csv\"\n",
    "# Output data to an Excel CSV file\n",
    "minneapolis_schools_df.to_csv(output_data_file)"
   ]
  },
  {
   "cell_type": "code",
   "execution_count": null,
   "metadata": {},
   "outputs": [],
   "source": []
  }
 ],
 "metadata": {
  "kernelspec": {
   "display_name": "Python 3",
   "language": "python",
   "name": "python3"
  },
  "language_info": {
   "codemirror_mode": {
    "name": "ipython",
    "version": 3
   },
   "file_extension": ".py",
   "mimetype": "text/x-python",
   "name": "python",
   "nbconvert_exporter": "python",
   "pygments_lexer": "ipython3",
   "version": "3.6.10"
  }
 },
 "nbformat": 4,
 "nbformat_minor": 4
}
