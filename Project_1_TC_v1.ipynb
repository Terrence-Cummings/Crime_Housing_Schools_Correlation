{
 "nbformat": 4,
 "nbformat_minor": 2,
 "metadata": {
  "language_info": {
   "name": "python",
   "codemirror_mode": {
    "name": "ipython",
    "version": 3
   },
   "version": "3.6.10-final"
  },
  "orig_nbformat": 2,
  "file_extension": ".py",
  "mimetype": "text/x-python",
  "name": "python",
  "npconvert_exporter": "python",
  "pygments_lexer": "ipython3",
  "version": 3,
  "kernelspec": {
   "name": "python361064bitpythondatacondaab47c43dfe824d4eb95e9e8f15b48370",
   "display_name": "Python 3.6.10 64-bit ('PythonData': conda)"
  }
 },
 "cells": [
  {
   "cell_type": "markdown",
   "metadata": {},
   "source": [
    "Project 1 - Terrence Cummings\n",
    "- Crime, Schools, and Home Values in Minneapolis\n",
    "\n",
    "Step 1 - Housing data\n",
    "- Read in housing data from \"Open Minneapolis\" website using APIs (currently hit 2000 limit. Need to fix.)\n",
    "- Store in dataframe\n",
    "- Cleanup data\n",
    "- Convert x, y map coordinates to lat/lng"
   ],
   "execution_count": null,
   "outputs": []
  },
  {
   "cell_type": "code",
   "execution_count": null,
   "metadata": {},
   "outputs": [],
   "source": [
    "# Dependencies and Setup\n",
    "import matplotlib.pyplot as plt\n",
    "import scipy.stats as st\n",
    "import pandas as pd\n",
    "import numpy as np\n",
    "import geopandas as gpd\n",
    "import requests\n",
    "import time\n",
    "from scipy.stats import linregress\n",
    "import json\n",
    "from pprint import pprint\n",
    "from datetime import datetime\n"
   ]
  },
  {
   "cell_type": "code",
   "execution_count": null,
   "metadata": {},
   "outputs": [],
   "source": [
    "#Request home sales data from Open Minnesota API\n",
    "\n",
    "home_sales_geoserv = 'https://services.arcgis.com/afSMGVsC7QlRK1kZ/arcgis/rest/services/Property_Sales_2015_to_2019/FeatureServer/0/query?where=1%3D1&outFields=*&outSR=4326&f=json'\n",
    "\n",
    "home_sales_data = requests.get(house_sales_geoserv).json()\n",
    ""
   ]
  },
  {
   "cell_type": "code",
   "execution_count": null,
   "metadata": {
    "tags": [
     "outputPrepend",
     "outputPrepend"
    ]
   },
   "outputs": [],
   "source": [
    "#Set the number of home sales in the data for looping\n",
    "num_houses=len(home_sales_data['features'])\n",
    "\n",
    "#Initalize lists of key data\n",
    "sale_id =[]\n",
    "sale_date = []\n",
    "formatted_address = []\n",
    "land_sale = []\n",
    "community_cd = []\n",
    "community_desc = []\n",
    "nbhd_cd = []\n",
    "nbhd_desc = []\n",
    "ward = []\n",
    "proptype_cd = []\n",
    "proptype_desc = []\n",
    "adj_sale_price = []\n",
    "gross_sale_price = []\n",
    "downpayment = []\n",
    "x_coord = []\n",
    "y_coord = []\n",
    "\n",
    "#Fill lists of key data\n",
    "for house in range(0, num_houses):\n",
    "    sale_id.append(home_sales_data['features'][house]['attributes']['SALE_ID'])\n",
    "    sale_date.append(home_sales_data['features'][house]['attributes']['SALE_DATE'])\n",
    "    formatted_address.append(home_sales_data['features'][house]['attributes']['FORMATED_ADDRESS'])\n",
    "    land_sale.append(home_sales_data['features'][house]['attributes']['LAND_SALE'])\n",
    "    community_cd.append(home_sales_data['features'][house]['attributes']['COMMUNITY_CD'])\n",
    "    community_desc.append(home_sales_data['features'][house]['attributes']['COMMUNITY_DESC'])\n",
    "    nbhd_cd.append(home_sales_data['features'][house]['attributes']['NBHD_CD'])\n",
    "    nbhd_desc.append(home_sales_data['features'][house]['attributes']['NBHD_DESC'])\n",
    "    ward.append(home_sales_data['features'][house]['attributes']['WARD'])\n",
    "    proptype_cd.append(home_sales_data['features'][house]['attributes']['PROPTYPE_CD'])\n",
    "    proptype_desc.append(home_sales_data['features'][house]['attributes']['PROPTYPE_DESC'])\n",
    "    adj_sale_price.append(home_sales_data['features'][house]['attributes']['ADJ_SALE_PRICE'])\n",
    "    gross_sale_price.append(home_sales_data['features'][house]['attributes']['GROSS_SALE_PRICE'])\n",
    "    downpayment.append(home_sales_data['features'][house]['attributes']['DOWNPAYMENT'])\n",
    "    x_coord.append(home_sales_data['features'][house]['attributes']['X'])\n",
    "    y_coord.append(home_sales_data['features'][house]['attributes']['Y'])\n"
   ]
  },
  {
   "cell_type": "code",
   "execution_count": 214,
   "metadata": {},
   "outputs": [
    {
     "output_type": "execute_result",
     "data": {
      "text/plain": "R     1308\nX      331\nDB     154\nC       73\nA       42\nLR      30\nY       24\nLC       7\nI        6\nXM       5\nTP       5\nRZ       4\nLA       4\nRM       3\nLI       2\nNH       2\nName: proptype_cd, dtype: int64"
     },
     "metadata": {},
     "execution_count": 214
    }
   ],
   "source": [
    "#Create df of all MSP home sales data\n",
    "msp_home_sales_df = pd.DataFrame(zip(sale_id, sale_date, formatted_address, land_sale, community_cd, community_desc, nbhd_cd, nbhd_desc, ward, proptype_cd, proptype_desc, adj_sale_price, gross_sale_price, downpayment, x_coord, y_coord), columns = ['sale_id', 'sale_date', 'formatted_address', 'land_sale', 'community_cd', 'community_desc', 'nbhd_cd', 'nbhd_desc', 'ward', 'proptype_cd', 'proptype_desc', 'adj_sale_price', 'gross_sale_price', 'downpayment', 'x_coord', 'y_coord'])\n",
    "\n",
    "msp_home_sales_df.set_index('sale_id', inplace=True)\n",
    "\n",
    "#Create a df of the community codes and descriptions\n",
    "community_df = pd.DataFrame(zip(community_cd, community_desc), columns=['community_cd', 'community_desc'])\n",
    "community_df = community_df.drop_duplicates()\n",
    "community_df = community_df.sort_values(['community_cd'])\n",
    "community_df.set_index('community_cd', inplace = True)\n",
    "\n",
    "#Create a df of the neighborhood codes and descriptions\n",
    "nbhd_df = pd.DataFrame(zip(nbhd_cd, nbhd_desc), columns=['nbhd_cd', 'nbhd_desc'])\n",
    "nbhd_df = nbhd_df.drop_duplicates()\n",
    "nbhd_df = nbhd_df.sort_values(['nbhd_cd'])\n",
    "nbhd_df.set_index('nbhd_cd', inplace = True)\n",
    "\n",
    "#Create a df of the property type codes and descriptions\n",
    "proptype_df = pd.DataFrame(zip(proptype_cd, proptype_desc), columns=['proptype_cd', 'proptype_desc'])\n",
    "proptype_df = proptype_df.drop_duplicates()\n",
    "proptype_df = proptype_df.sort_values(['proptype_cd'])\n",
    "proptype_df.set_index('proptype_cd', inplace = True)\n",
    "\n",
    "msp_home_sales_df['proptype_cd'].value_counts()"
   ]
  },
  {
   "cell_type": "code",
   "execution_count": 222,
   "metadata": {},
   "outputs": [
    {
     "output_type": "execute_result",
     "data": {
      "text/plain": "             sale_date                   formatted_address land_sale  \\\nsale_id                                                                \n304279   1420783200000                      3542 Valley St        NO   \n303578   1420783200000               301 Oak Grove St #506        NO   \n304190   1420783200000  3136 West Bde Maka Ska Blvd W #206        NO   \n303562   1420783200000                   730 4TH St N #601        NO   \n304311   1420783200000                        3439 Polk St        NO   \n...                ...                                 ...       ...   \n305657   1429246800000                     2809 35TH Ave S        NO   \n306385   1429246800000                      3843 5TH Ave S        NO   \n305988   1429246800000                  5717 Emerson Ave S        NO   \n305971   1429246800000                  401 1ST St S #1708        NO   \n305805   1429246800000                    4114 Nokomis Ave        NO   \n\n         community_cd community_desc  nbhd_cd      nbhd_desc  ward  \\\nsale_id                                                              \n304279              2      NORTHEAST       11       COLUMBIA     1   \n303578              4        CENTRAL       31    LORING PARK     7   \n304190              6   CALHOUN-ISLE       49   WEST CALHOUN    13   \n303562              4        CENTRAL       86      NORTHLOOP     3   \n304311              2      NORTHEAST       12     WAITE PARK     1   \n...               ...            ...      ...            ...   ...   \n305657              8     LONGFELLOW       61     LONGFELLOW     2   \n306385              7     POWDERHORN       57         BRYANT     8   \n305988              9      SOUTHWEST       67          KENNY    13   \n305971              4        CENTRAL       87  DOWNTOWN WEST     3   \n305805              7     POWDERHORN       59       STANDISH    12   \n\n        proptype_cd    proptype_desc  adj_sale_price  gross_sale_price  \\\nsale_id                                                                  \n304279            R      RESIDENTIAL          145985            150500   \n303578            X      CONDOMINIUM          241000            241000   \n304190            X      CONDOMINIUM           20000             20000   \n303562            X      CONDOMINIUM          320000            320000   \n304311            R      RESIDENTIAL          153500            160000   \n...             ...              ...             ...               ...   \n305657            R      RESIDENTIAL          183000            185000   \n306385           DB  DOUBLE BUNGALOW           82577             82577   \n305988            R      RESIDENTIAL          250000            255500   \n305971            X      CONDOMINIUM          234000            234000   \n305805            R      RESIDENTIAL          215000            221650   \n\n         downpayment        x_coord        y_coord  \nsale_id                                             \n304279          7525  533346.190261  188201.516808  \n303578             0  525967.100955  163990.980501  \n304190             0  516063.000000  156554.000000  \n303562             0  526709.800000  171382.570000  \n304311         18741  535920.652943  187323.980831  \n...              ...            ...            ...  \n305657          3351  541953.620586  158544.594286  \n306385             0  529743.563171  151593.562848  \n305988             0  523075.125622  139390.137337  \n305971             0  531697.000000  169229.000000  \n305805          4015  540062.639060  149999.242972  \n\n[1712 rows x 15 columns]",
      "text/html": "<div>\n<style scoped>\n    .dataframe tbody tr th:only-of-type {\n        vertical-align: middle;\n    }\n\n    .dataframe tbody tr th {\n        vertical-align: top;\n    }\n\n    .dataframe thead th {\n        text-align: right;\n    }\n</style>\n<table border=\"1\" class=\"dataframe\">\n  <thead>\n    <tr style=\"text-align: right;\">\n      <th></th>\n      <th>sale_date</th>\n      <th>formatted_address</th>\n      <th>land_sale</th>\n      <th>community_cd</th>\n      <th>community_desc</th>\n      <th>nbhd_cd</th>\n      <th>nbhd_desc</th>\n      <th>ward</th>\n      <th>proptype_cd</th>\n      <th>proptype_desc</th>\n      <th>adj_sale_price</th>\n      <th>gross_sale_price</th>\n      <th>downpayment</th>\n      <th>x_coord</th>\n      <th>y_coord</th>\n    </tr>\n    <tr>\n      <th>sale_id</th>\n      <th></th>\n      <th></th>\n      <th></th>\n      <th></th>\n      <th></th>\n      <th></th>\n      <th></th>\n      <th></th>\n      <th></th>\n      <th></th>\n      <th></th>\n      <th></th>\n      <th></th>\n      <th></th>\n      <th></th>\n    </tr>\n  </thead>\n  <tbody>\n    <tr>\n      <th>304279</th>\n      <td>1420783200000</td>\n      <td>3542 Valley St</td>\n      <td>NO</td>\n      <td>2</td>\n      <td>NORTHEAST</td>\n      <td>11</td>\n      <td>COLUMBIA</td>\n      <td>1</td>\n      <td>R</td>\n      <td>RESIDENTIAL</td>\n      <td>145985</td>\n      <td>150500</td>\n      <td>7525</td>\n      <td>533346.190261</td>\n      <td>188201.516808</td>\n    </tr>\n    <tr>\n      <th>303578</th>\n      <td>1420783200000</td>\n      <td>301 Oak Grove St #506</td>\n      <td>NO</td>\n      <td>4</td>\n      <td>CENTRAL</td>\n      <td>31</td>\n      <td>LORING PARK</td>\n      <td>7</td>\n      <td>X</td>\n      <td>CONDOMINIUM</td>\n      <td>241000</td>\n      <td>241000</td>\n      <td>0</td>\n      <td>525967.100955</td>\n      <td>163990.980501</td>\n    </tr>\n    <tr>\n      <th>304190</th>\n      <td>1420783200000</td>\n      <td>3136 West Bde Maka Ska Blvd W #206</td>\n      <td>NO</td>\n      <td>6</td>\n      <td>CALHOUN-ISLE</td>\n      <td>49</td>\n      <td>WEST CALHOUN</td>\n      <td>13</td>\n      <td>X</td>\n      <td>CONDOMINIUM</td>\n      <td>20000</td>\n      <td>20000</td>\n      <td>0</td>\n      <td>516063.000000</td>\n      <td>156554.000000</td>\n    </tr>\n    <tr>\n      <th>303562</th>\n      <td>1420783200000</td>\n      <td>730 4TH St N #601</td>\n      <td>NO</td>\n      <td>4</td>\n      <td>CENTRAL</td>\n      <td>86</td>\n      <td>NORTHLOOP</td>\n      <td>3</td>\n      <td>X</td>\n      <td>CONDOMINIUM</td>\n      <td>320000</td>\n      <td>320000</td>\n      <td>0</td>\n      <td>526709.800000</td>\n      <td>171382.570000</td>\n    </tr>\n    <tr>\n      <th>304311</th>\n      <td>1420783200000</td>\n      <td>3439 Polk St</td>\n      <td>NO</td>\n      <td>2</td>\n      <td>NORTHEAST</td>\n      <td>12</td>\n      <td>WAITE PARK</td>\n      <td>1</td>\n      <td>R</td>\n      <td>RESIDENTIAL</td>\n      <td>153500</td>\n      <td>160000</td>\n      <td>18741</td>\n      <td>535920.652943</td>\n      <td>187323.980831</td>\n    </tr>\n    <tr>\n      <th>...</th>\n      <td>...</td>\n      <td>...</td>\n      <td>...</td>\n      <td>...</td>\n      <td>...</td>\n      <td>...</td>\n      <td>...</td>\n      <td>...</td>\n      <td>...</td>\n      <td>...</td>\n      <td>...</td>\n      <td>...</td>\n      <td>...</td>\n      <td>...</td>\n      <td>...</td>\n    </tr>\n    <tr>\n      <th>305657</th>\n      <td>1429246800000</td>\n      <td>2809 35TH Ave S</td>\n      <td>NO</td>\n      <td>8</td>\n      <td>LONGFELLOW</td>\n      <td>61</td>\n      <td>LONGFELLOW</td>\n      <td>2</td>\n      <td>R</td>\n      <td>RESIDENTIAL</td>\n      <td>183000</td>\n      <td>185000</td>\n      <td>3351</td>\n      <td>541953.620586</td>\n      <td>158544.594286</td>\n    </tr>\n    <tr>\n      <th>306385</th>\n      <td>1429246800000</td>\n      <td>3843 5TH Ave S</td>\n      <td>NO</td>\n      <td>7</td>\n      <td>POWDERHORN</td>\n      <td>57</td>\n      <td>BRYANT</td>\n      <td>8</td>\n      <td>DB</td>\n      <td>DOUBLE BUNGALOW</td>\n      <td>82577</td>\n      <td>82577</td>\n      <td>0</td>\n      <td>529743.563171</td>\n      <td>151593.562848</td>\n    </tr>\n    <tr>\n      <th>305988</th>\n      <td>1429246800000</td>\n      <td>5717 Emerson Ave S</td>\n      <td>NO</td>\n      <td>9</td>\n      <td>SOUTHWEST</td>\n      <td>67</td>\n      <td>KENNY</td>\n      <td>13</td>\n      <td>R</td>\n      <td>RESIDENTIAL</td>\n      <td>250000</td>\n      <td>255500</td>\n      <td>0</td>\n      <td>523075.125622</td>\n      <td>139390.137337</td>\n    </tr>\n    <tr>\n      <th>305971</th>\n      <td>1429246800000</td>\n      <td>401 1ST St S #1708</td>\n      <td>NO</td>\n      <td>4</td>\n      <td>CENTRAL</td>\n      <td>87</td>\n      <td>DOWNTOWN WEST</td>\n      <td>3</td>\n      <td>X</td>\n      <td>CONDOMINIUM</td>\n      <td>234000</td>\n      <td>234000</td>\n      <td>0</td>\n      <td>531697.000000</td>\n      <td>169229.000000</td>\n    </tr>\n    <tr>\n      <th>305805</th>\n      <td>1429246800000</td>\n      <td>4114 Nokomis Ave</td>\n      <td>NO</td>\n      <td>7</td>\n      <td>POWDERHORN</td>\n      <td>59</td>\n      <td>STANDISH</td>\n      <td>12</td>\n      <td>R</td>\n      <td>RESIDENTIAL</td>\n      <td>215000</td>\n      <td>221650</td>\n      <td>4015</td>\n      <td>540062.639060</td>\n      <td>149999.242972</td>\n    </tr>\n  </tbody>\n</table>\n<p>1712 rows × 15 columns</p>\n</div>"
     },
     "metadata": {},
     "execution_count": 222
    }
   ],
   "source": [
    "#Clean up df by eliminating 0 sale price\n",
    "clean_msp_home_sales_df = msp_home_sales_df.loc[msp_home_sales_df['adj_sale_price']>10000]\n",
    "\n",
    "#Clean up by eliminating non-residential and odd property types\n",
    "proptype_allowed = ['R', 'X', 'DB', 'Y', 'RZ' 'RM']\n",
    "clean_msp_home_sales_df = clean_msp_home_sales_df[clean_msp_home_sales_df['proptype_cd'].isin(proptype_allowed)]\n",
    "\n",
    "#Clean up by eliminating land-only sales\n",
    "clean_msp_home_sales_df = clean_msp_home_sales_df[clean_msp_home_sales_df['land_sale']=='NO']\n",
    "\n",
    "clean_msp_home_sales_df"
   ]
  },
  {
   "cell_type": "code",
   "execution_count": null,
   "metadata": {},
   "outputs": [],
   "source": []
  }
 ]
}