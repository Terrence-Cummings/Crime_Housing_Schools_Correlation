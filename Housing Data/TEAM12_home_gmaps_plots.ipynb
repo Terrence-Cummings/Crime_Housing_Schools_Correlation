{
 "cells": [
  {
   "cell_type": "markdown",
   "metadata": {},
   "source": [
    "Project 1 - Terrence Cummings\n",
    "\n",
    "This notebook is used to make gmaps heatmaps of housing prices. Separate notebook used in order to isolate google API calls from other work so as not run up bill troubleshooting analytics etc."
   ]
  },
  {
   "cell_type": "code",
   "execution_count": 2,
   "metadata": {},
   "outputs": [
    {
     "output_type": "execute_result",
     "data": {
      "text/plain": "              NEIGHBORHOOD     COMMUNITY  Google Lat  Google Long  \\\n0                BRYN MAWR  CALHOUN-ISLE   44.973721   -93.308377   \n1                    CARAG  CALHOUN-ISLE   44.941056   -93.291062   \n2         CEDAR-ISLES-DEAN  CALHOUN-ISLE   44.954166   -93.321534   \n3               EAST ISLES  CALHOUN-ISLE   44.955947   -93.300271   \n4                     ECCO  CALHOUN-ISLE   44.855850   -93.242525   \n..                     ...           ...         ...          ...   \n79                    COMO    UNIVERSITY   44.987837   -93.222807   \n80            MARCY-HOLMES    UNIVERSITY   44.985372   -93.244723   \n81  MID CITY INDUSTRIAL AR    UNIVERSITY   44.998862   -93.217771   \n82   NICOLLET IS/EAST BANK    UNIVERSITY   44.973677   -93.231077   \n83  PROSPECT PK/E RIVER RD    UNIVERSITY   44.960903   -93.212901   \n\n    Number of Homes  val_tot_sqft  \n0              1114    178.574770  \n1               831    192.321806  \n2               930    248.630467  \n3               717    239.512465  \n4               567    233.393468  \n..              ...           ...  \n79              948    119.915567  \n80              935    217.959893  \n81              165    248.821044  \n82              738    312.173345  \n83              829    178.065928  \n\n[84 rows x 6 columns]",
      "text/html": "<div>\n<style scoped>\n    .dataframe tbody tr th:only-of-type {\n        vertical-align: middle;\n    }\n\n    .dataframe tbody tr th {\n        vertical-align: top;\n    }\n\n    .dataframe thead th {\n        text-align: right;\n    }\n</style>\n<table border=\"1\" class=\"dataframe\">\n  <thead>\n    <tr style=\"text-align: right;\">\n      <th></th>\n      <th>NEIGHBORHOOD</th>\n      <th>COMMUNITY</th>\n      <th>Google Lat</th>\n      <th>Google Long</th>\n      <th>Number of Homes</th>\n      <th>val_tot_sqft</th>\n    </tr>\n  </thead>\n  <tbody>\n    <tr>\n      <th>0</th>\n      <td>BRYN MAWR</td>\n      <td>CALHOUN-ISLE</td>\n      <td>44.973721</td>\n      <td>-93.308377</td>\n      <td>1114</td>\n      <td>178.574770</td>\n    </tr>\n    <tr>\n      <th>1</th>\n      <td>CARAG</td>\n      <td>CALHOUN-ISLE</td>\n      <td>44.941056</td>\n      <td>-93.291062</td>\n      <td>831</td>\n      <td>192.321806</td>\n    </tr>\n    <tr>\n      <th>2</th>\n      <td>CEDAR-ISLES-DEAN</td>\n      <td>CALHOUN-ISLE</td>\n      <td>44.954166</td>\n      <td>-93.321534</td>\n      <td>930</td>\n      <td>248.630467</td>\n    </tr>\n    <tr>\n      <th>3</th>\n      <td>EAST ISLES</td>\n      <td>CALHOUN-ISLE</td>\n      <td>44.955947</td>\n      <td>-93.300271</td>\n      <td>717</td>\n      <td>239.512465</td>\n    </tr>\n    <tr>\n      <th>4</th>\n      <td>ECCO</td>\n      <td>CALHOUN-ISLE</td>\n      <td>44.855850</td>\n      <td>-93.242525</td>\n      <td>567</td>\n      <td>233.393468</td>\n    </tr>\n    <tr>\n      <th>...</th>\n      <td>...</td>\n      <td>...</td>\n      <td>...</td>\n      <td>...</td>\n      <td>...</td>\n      <td>...</td>\n    </tr>\n    <tr>\n      <th>79</th>\n      <td>COMO</td>\n      <td>UNIVERSITY</td>\n      <td>44.987837</td>\n      <td>-93.222807</td>\n      <td>948</td>\n      <td>119.915567</td>\n    </tr>\n    <tr>\n      <th>80</th>\n      <td>MARCY-HOLMES</td>\n      <td>UNIVERSITY</td>\n      <td>44.985372</td>\n      <td>-93.244723</td>\n      <td>935</td>\n      <td>217.959893</td>\n    </tr>\n    <tr>\n      <th>81</th>\n      <td>MID CITY INDUSTRIAL AR</td>\n      <td>UNIVERSITY</td>\n      <td>44.998862</td>\n      <td>-93.217771</td>\n      <td>165</td>\n      <td>248.821044</td>\n    </tr>\n    <tr>\n      <th>82</th>\n      <td>NICOLLET IS/EAST BANK</td>\n      <td>UNIVERSITY</td>\n      <td>44.973677</td>\n      <td>-93.231077</td>\n      <td>738</td>\n      <td>312.173345</td>\n    </tr>\n    <tr>\n      <th>83</th>\n      <td>PROSPECT PK/E RIVER RD</td>\n      <td>UNIVERSITY</td>\n      <td>44.960903</td>\n      <td>-93.212901</td>\n      <td>829</td>\n      <td>178.065928</td>\n    </tr>\n  </tbody>\n</table>\n<p>84 rows × 6 columns</p>\n</div>"
     },
     "metadata": {},
     "execution_count": 2
    }
   ],
   "source": [
    "# Dependencies and Setup\n",
    "import matplotlib.pyplot as plt\n",
    "import scipy.stats as st\n",
    "import pandas as pd\n",
    "import numpy as np\n",
    "import requests\n",
    "import time\n",
    "from scipy.stats import linregress\n",
    "import json\n",
    "import gmaps.datasets\n",
    "import os\n",
    "import gmaps\n",
    "\n",
    "# Import API key\n",
    "from api_keys import g_key\n",
    "\n",
    "#READ SUMMARY ASSESSED HOME VALUE STATS CREATED IN ANALYTICS NOTEBOOK\n",
    "msp_community_summary_df = pd.DataFrame(pd.read_csv(\"msp_community_summary.csv\"))\n",
    "\n",
    "#READ IN FILE THAT MAPS NEIGHBORHOOD TO COMMUNITY AND LAT/LONG\n",
    "community_nbhd_df = pd.DataFrame(pd.read_csv('../community_nbhd.csv'))\n",
    "\n",
    "#READ IN DATA THAT SHOWS ASSESSED VALUE PER SQFT FOR EACH NEIGHBORHOOD\n",
    "nbhd_val_tot_sqft_df = pd.DataFrame(pd.read_csv('nbhd_val_tot_sqft.csv'))\n",
    "\n",
    "#CREATE DF THAT INCLUDES NEIGHBORHOOD, COMMUNITY, ASSESSED VALUE PER SQFT, AND LAT LONG\n",
    "nbhd_val_latlng = community_nbhd_df.merge(nbhd_val_tot_sqft_df, left_on='NEIGHBORHOOD', right_on='neighborhood')\n",
    "\n",
    "#CLEANUP AFTER MERGE\n",
    "del nbhd_val_latlng['neighborhood']\n",
    "del nbhd_val_latlng['Unnamed: 0']\n",
    "\n",
    "nbhd_val_latlng"
   ]
  },
  {
   "cell_type": "code",
   "execution_count": 20,
   "metadata": {},
   "outputs": [
    {
     "data": {
      "application/vnd.jupyter.widget-view+json": {
       "model_id": "c3698f6d4cf1485faf82395c78fd55c8",
       "version_major": 2,
       "version_minor": 0
      },
      "text/plain": [
       "Figure(layout=FigureLayout(height='420px'))"
      ]
     },
     "metadata": {},
     "output_type": "display_data"
    }
   ],
   "source": [
    "#CREATE A HEATMAP OF NEIGHBORHOOD ASSESSED HOME VALUES PER SQFT\n",
    "\n",
    "#Configure gmaps and read api key\n",
    "gmaps.configure(api_key=g_key)\n",
    "\n",
    "#Grab the needed columns for the humidity-weighted heatmap\n",
    "home_price_heatmap = nbhd_val_latlng[['Google Lat', 'Google Long', 'val_tot_sqft']]\n",
    "\n",
    "#Center on Minneapolis!\n",
    "minneapolis = [44.971404, -93.266287]\n",
    "\n",
    "#Set locations based on city lat long from WeatherPy\n",
    "locations = home_price_heatmap[['Google Lat', 'Google Long']]\n",
    "\n",
    "#Weight the heatmap by humidity level\n",
    "weights = home_price_heatmap['val_tot_sqft']\n",
    "\n",
    "#Generate gmaps figure, add heatmap layer\n",
    "fig = gmaps.figure(map_type='ROADMAP', center = minneapolis, zoom_level=13)\n",
    "fig.add_layer(gmaps.heatmap_layer(locations, weights=weights, point_radius=50, max_intensity=300))\n",
    "fig\n"
   ]
  },
  {
   "cell_type": "code",
   "execution_count": null,
   "metadata": {},
   "outputs": [],
   "source": [
    "#NOT USED!! RETRIEVS GOOGLE ADDRESS AND LAT LNG FOR 2015-2019 HOME SALES\n",
    "\n",
    "params = {\n",
    "    \"key\": g_key,\n",
    "}\n",
    "\n",
    "for index, row in short_msp_home_sales_df.iterrows():\n",
    "    # get address from df\n",
    "    address = row[\"formatted_address\"]\n",
    "    address_new = address.replace(\"#\", \"%23\")\n",
    "\n",
    "    # change location each iteration while leaving original params in place\n",
    "    params[\"address\"] = f\"{address_new}\"\n",
    "    \n",
    "    #Base url and request\n",
    "    base_url = \"https://maps.googleapis.com/maps/api/geocode/json\"\n",
    "    response = requests.get(base_url, params=params).json()\n",
    "    \n",
    "    try:\n",
    "        short_msp_home_sales_df.loc[index, 'Google Address'] = response['results'][0]['formatted_address']\n",
    "        short_msp_home_sales_df.loc[index, 'Google Lat'] = response['results'][0]['geometry']['location']['lat']\n",
    "        short_msp_home_sales_df.loc[index, 'Google Long'] = response['results'][0]['geometry']['location']['lng']\n",
    "    except:\n",
    "        print(f'Bad Google data for sale ID {index}')\n"
   ]
  },
  {
   "cell_type": "code",
   "execution_count": null,
   "metadata": {},
   "outputs": [],
   "source": [
    "#NOT USED!! CREATES HEATMAP OF 2015-2019 HOME SALES VALUE\n",
    "\n",
    "#Configure gmaps and read api key\n",
    "gmaps.configure(api_key=g_key)\n",
    "\n",
    "#Grab the needed columns for the humidity-weighted heatmap\n",
    "home_sale_price_heatmap = short_msp_home_sales_df[['Google Lat', 'Google Long', 'gross_sale_price']]\n",
    "\n",
    "#Center on Minneapolis!\n",
    "minneapolis = [44.971404, -93.266287]\n",
    "\n",
    "#Set locations based on city lat long from WeatherPy\n",
    "locations = home_sale_price_heatmap[['Google Lat', 'Google Long']]\n",
    "\n",
    "#Weight the heatmap by humidity level\n",
    "weights = home_sale_price_heatmap['gross_sale_price']\n",
    "\n",
    "#Generate gmaps figure, add heatmap layer\n",
    "fig = gmaps.figure(map_type='HYBRID', center = minneapolis, zoom_level=9.5)\n",
    "fig.add_layer(gmaps.heatmap_layer(locations, weights=weights))\n",
    "fig\n"
   ]
  },
  {
   "cell_type": "code",
   "execution_count": 6,
   "metadata": {},
   "outputs": [],
   "source": [
    "#RETRIEVE GOOGLE MAPS LAT/LNG VALUES FOR EACH OF THE 80+ MSP NEIGHBORHOODS\n",
    "params = {\n",
    "    \"key\": g_key,\n",
    "}\n",
    "\n",
    "for index, row in community_nbhd_df.iterrows():\n",
    "    # get address from df\n",
    "    address = row[\"NEIGHBORHOOD\"]+' MINNEAPOLIS'\n",
    "    address_new = address.replace(\"#\", \"%23\")\n",
    "\n",
    "    # change location each iteration while leaving original params in place\n",
    "    params[\"address\"] = f\"{address_new}\"\n",
    "    \n",
    "    #Base url and request\n",
    "    base_url = \"https://maps.googleapis.com/maps/api/geocode/json\"\n",
    "    response = requests.get(base_url, params=params).json()\n",
    "    \n",
    "    try:\n",
    "        community_nbhd_df.loc[index, 'Google Lat'] = response['results'][0]['geometry']['location']['lat']\n",
    "        community_nbhd_df.loc[index, 'Google Long'] = response['results'][0]['geometry']['location']['lng']\n",
    "    except:\n",
    "        print(f'Bad Google data for sale ID {index}')\n",
    "\n",
    "community_nbhd_df.to_csv('../community_nbhd.csv')"
   ]
  },
  {
   "cell_type": "code",
   "execution_count": null,
   "metadata": {},
   "outputs": [],
   "source": []
  }
 ],
 "metadata": {
  "file_extension": ".py",
  "kernelspec": {
   "display_name": "Python 3.6.10 64-bit ('PythonData': conda)",
   "language": "python",
   "name": "python361064bitpythondatacondaab47c43dfe824d4eb95e9e8f15b48370"
  },
  "language_info": {
   "codemirror_mode": {
    "name": "ipython",
    "version": 3
   },
   "file_extension": ".py",
   "mimetype": "text/x-python",
   "name": "python",
   "nbconvert_exporter": "python",
   "pygments_lexer": "ipython3",
   "version": "3.6.10-final"
  },
  "mimetype": "text/x-python",
  "name": "python",
  "npconvert_exporter": "python",
  "pygments_lexer": "ipython3",
  "version": 3
 },
 "nbformat": 4,
 "nbformat_minor": 2
}