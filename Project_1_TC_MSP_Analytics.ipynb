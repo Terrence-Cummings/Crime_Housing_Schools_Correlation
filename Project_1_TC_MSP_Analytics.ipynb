{
 "cells": [
  {
   "cell_type": "markdown",
   "metadata": {},
   "source": [
    "Project 1 - Terrence Cummings\n",
    "- Crime, Schools, and Home Values in Minneapolis\n",
    "\n",
    "Read in CSVs from Home Sales and Property Taxes notebooks and perform some analytics"
   ],
   "execution_count": null,
   "outputs": []
  },
  {
   "cell_type": "code",
   "execution_count": 4,
   "metadata": {},
   "outputs": [],
   "source": [
    "# Dependencies and Setup\n",
    "import matplotlib as mpl \n",
    "import matplotlib.pyplot as plt\n",
    "import scipy.stats as st\n",
    "import pandas as pd\n",
    "import numpy as np\n",
    "from scipy.stats import linregress\n",
    "import json\n",
    "import requests\n",
    "from sklearn import linear_model\n",
    "from sklearn.metrics import mean_squared_error, r2_score\n",
    "from sklearn.model_selection import train_test_split\n",
    "from sklearn import metrics\n",
    "from mpl_toolkits.mplot3d import Axes3D\n",
    "import pingouin as pg"
   ]
  },
  {
   "cell_type": "code",
   "execution_count": null,
   "metadata": {},
   "outputs": [],
   "source": [
    "clean_msp_home_sales_df = pd.DataFrame(pd.read_csv('clean_msp_home_sales.csv'))\n",
    "clean_msp_tax_sales_df = pd.DataFrame(pd.read_csv('clean_msp_tax_sales.csv'))\n",
    "clean_msp_tax_sales_df.head()"
   ]
  },
  {
   "cell_type": "code",
   "execution_count": null,
   "metadata": {},
   "outputs": [],
   "source": [
    "print(clean_msp_tax_sales_df.dtypes)"
   ]
  },
  {
   "cell_type": "code",
   "execution_count": 50,
   "metadata": {},
   "outputs": [
    {
     "output_type": "stream",
     "name": "stdout",
     "text": "-117207.28037191246\n"
    },
    {
     "output_type": "execute_result",
     "data": {
      "text/plain": "                  Coefficient\nabovegroundarea    269.453716\nbathrooms        46334.085506",
      "text/html": "<div>\n<style scoped>\n    .dataframe tbody tr th:only-of-type {\n        vertical-align: middle;\n    }\n\n    .dataframe tbody tr th {\n        vertical-align: top;\n    }\n\n    .dataframe thead th {\n        text-align: right;\n    }\n</style>\n<table border=\"1\" class=\"dataframe\">\n  <thead>\n    <tr style=\"text-align: right;\">\n      <th></th>\n      <th>Coefficient</th>\n    </tr>\n  </thead>\n  <tbody>\n    <tr>\n      <th>abovegroundarea</th>\n      <td>269.453716</td>\n    </tr>\n    <tr>\n      <th>bathrooms</th>\n      <td>46334.085506</td>\n    </tr>\n  </tbody>\n</table>\n</div>"
     },
     "metadata": {},
     "execution_count": 50
    }
   ],
   "source": [
    "Y=clean_msp_tax_sales_df['totalvalue'].astype('float')\n",
    "X=clean_msp_tax_sales_df[['abovegroundarea', 'bathrooms']].astype('float')\n",
    "\n",
    "X_train, X_test, Y_train, Y_test = train_test_split(X, Y, test_size=0.2, random_state= 0)\n",
    "\n",
    "model = linear_model.LinearRegression()\n",
    "model.fit(X_train, Y_train)\n",
    "\n",
    "coeff_df = pd.DataFrame(model.coef_, X.columns, columns=['Coefficient'])\n",
    "print(model.intercept_)\n",
    "coeff_df"
   ]
  },
  {
   "cell_type": "code",
   "execution_count": 51,
   "metadata": {},
   "outputs": [
    {
     "output_type": "stream",
     "name": "stdout",
     "text": "Actual      Predicted\n91628  226500.0  143073.055530\n46101  336500.0  359174.935652\n46090  339500.0  331139.795580\n39470  223500.0  245196.013842\n18453  219500.0  263249.412805\n62302  386500.0  456435.773456\n43780  318500.0  278326.867271\n88811  216500.0  219597.910835\n52557  561500.0  406035.974967\n62624  276500.0  189958.002090\n"
    }
   ],
   "source": [
    "y_pred = model.predict(X_test)\n",
    "\n",
    "df = pd.DataFrame({'Actual': Y_test, 'Predicted': y_pred})\n",
    "print(df.head(10))"
   ]
  },
  {
   "cell_type": "code",
   "execution_count": 52,
   "metadata": {},
   "outputs": [
    {
     "output_type": "stream",
     "name": "stdout",
     "text": "Intercept: \n -117207.28037191246\nRoot Mean Square Error \n 136753.95881443896\nR^2 Value: \n 0.6209353321416182\n"
    }
   ],
   "source": [
    "# Root Mean Squared Deviation\n",
    "rmsd = np.sqrt(mean_squared_error(Y_test, y_pred))      \n",
    "r2_value = r2_score(Y_test, y_pred)                     \n",
    "\n",
    "print(\"Intercept: \\n\", model.intercept_)\n",
    "print(\"Root Mean Square Error \\n\", rmsd)\n",
    "print(\"R^2 Value: \\n\", r2_value)"
   ]
  },
  {
   "cell_type": "code",
   "execution_count": 55,
   "metadata": {},
   "outputs": [
    {
     "output_type": "stream",
     "name": "stdout",
     "text": "Mean Absolute Error: 88202.14158315955\nMean Squared Error: 18701645251.42127\nRoot Mean Squared Error: 136753.95881443896\n"
    }
   ],
   "source": [
    "print('Mean Absolute Error:', metrics.mean_absolute_error(Y_test, y_pred))  \n",
    "print('Mean Squared Error:', metrics.mean_squared_error(Y_test, y_pred))  \n",
    "print('Root Mean Squared Error:', np.sqrt(metrics.mean_squared_error(Y_test, y_pred)))"
   ]
  },
  {
   "cell_type": "code",
   "execution_count": null,
   "metadata": {},
   "outputs": [],
   "source": []
  }
 ],
 "metadata": {
  "file_extension": ".py",
  "kernelspec": {
   "display_name": "Python 3.6.10 64-bit ('PythonData': conda)",
   "language": "python",
   "name": "python361064bitpythondatacondaab47c43dfe824d4eb95e9e8f15b48370"
  },
  "language_info": {
   "codemirror_mode": {
    "name": "ipython",
    "version": 3
   },
   "file_extension": ".py",
   "mimetype": "text/x-python",
   "name": "python",
   "nbconvert_exporter": "python",
   "pygments_lexer": "ipython3",
   "version": "3.6.10-final"
  },
  "mimetype": "text/x-python",
  "name": "python",
  "npconvert_exporter": "python",
  "pygments_lexer": "ipython3",
  "version": 3
 },
 "nbformat": 4,
 "nbformat_minor": 2
}