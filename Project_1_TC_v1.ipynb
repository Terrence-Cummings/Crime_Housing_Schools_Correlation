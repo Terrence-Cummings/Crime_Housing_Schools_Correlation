{
 "nbformat": 4,
 "nbformat_minor": 2,
 "metadata": {
  "language_info": {
   "name": "python",
   "codemirror_mode": {
    "name": "ipython",
    "version": 3
   },
   "version": "3.6.10-final"
  },
  "orig_nbformat": 2,
  "file_extension": ".py",
  "mimetype": "text/x-python",
  "name": "python",
  "npconvert_exporter": "python",
  "pygments_lexer": "ipython3",
  "version": 3,
  "kernelspec": {
   "name": "python361064bitpythondatacondaab47c43dfe824d4eb95e9e8f15b48370",
   "display_name": "Python 3.6.10 64-bit ('PythonData': conda)"
  }
 },
 "cells": [
  {
   "cell_type": "markdown",
   "metadata": {},
   "source": [
    "Project 1 - Terrence Cummings\n",
    "- Crime, Schools, and Home Values in Minneapolis\n",
    "\n",
    "Step 1 - Housing data\n",
    "Read in housing data from \"Open Minneapolis\" website using APIs\n",
    "Store in dataframe"
   ],
   "execution_count": null,
   "outputs": []
  },
  {
   "cell_type": "code",
   "execution_count": null,
   "metadata": {},
   "outputs": [],
   "source": [
    "# Dependencies and Setup\n",
    "import matplotlib.pyplot as plt\n",
    "import scipy.stats as st\n",
    "import pandas as pd\n",
    "import numpy as np\n",
    "import geopandas as gpd\n",
    "import requests\n",
    "import time\n",
    "from scipy.stats import linregress\n",
    "import json\n",
    "from pprint import pprint\n",
    "from datetime import datetime\n",
    "\n",
    ""
   ]
  },
  {
   "cell_type": "code",
   "execution_count": null,
   "metadata": {},
   "outputs": [],
   "source": [
    "#Note this does not return the full data set: \n",
    "\n",
    "\n",
    "#This seems to return the full dataset\n",
    "#house_sales_geojson = 'https://opendata.arcgis.com/datasets/de791d30db6849989db8eeced93b78fb_0.geojson'\n",
    "\n",
    "#prop_tax_geoserv = 'https://services.arcgis.com/afSMGVsC7QlRK1kZ/arcgis/rest/services/Assessors_Parcel_Data_2020/FeatureServer/0/query?outFields=*&where=1%3D1'\n",
    "\n",
    "#prop_tax_geojson = 'https://opendata.arcgis.com/datasets/bfd1c51a341f431c82ae5c56f852cbbb_0.geojson'\n",
    "\n",
    "house_sales_geoserv = 'https://services.arcgis.com/afSMGVsC7QlRK1kZ/arcgis/rest/services/Property_Sales_2015_to_2019/FeatureServer/0/query?where=1%3D1&outFields=*&outSR=4326&f=json'\n",
    "\n",
    "msp_housing_data = requests.get(house_sales_geoserv).json()\n",
    ""
   ]
  },
  {
   "cell_type": "code",
   "execution_count": null,
   "metadata": {
    "tags": [
     "outputPrepend",
     "outputPrepend"
    ]
   },
   "outputs": [],
   "source": [
    "num_houses = len(msp_housing_data['features'])\n",
    "\n",
    "sale_id =[]\n",
    "sale_date = []\n",
    "formatted_address = []\n",
    "land_sale = []\n",
    "community_cd = []\n",
    "community_desc = []\n",
    "nbhd_cd = []\n",
    "nbhd_desc = []\n",
    "ward = []\n",
    "proptype_cd = []\n",
    "proptype_desc = []\n",
    "adj_sale_price = []\n",
    "gross_sale_price = []\n",
    "downpayment = []\n",
    "x_coord = []\n",
    "y_coord = []\n",
    "\n",
    "for house in range(0, num_houses):\n",
    "    sale_id.append(msp_housing_data['features'][house]['attributes']['SALE_ID'])\n",
    "    sale_date.append(msp_housing_data['features'][house]['attributes']['SALE_DATE'])\n",
    "    formatted_address.append(msp_housing_data['features'][house]['attributes']['FORMATED_ADDRESS'])\n",
    "    land_sale.append(msp_housing_data['features'][house]['attributes']['LAND_SALE'])\n",
    "    community_cd.append(msp_housing_data['features'][house]['attributes']['COMMUNITY_CD'])\n",
    "    community_desc.append(msp_housing_data['features'][house]['attributes']['COMMUNITY_DESC'])\n",
    "    nbhd_cd.append(msp_housing_data['features'][house]['attributes']['NBHD_CD'])\n",
    "    nbhd_desc.append(msp_housing_data['features'][house]['attributes']['NBHD_DESC'])\n",
    "    ward.append(msp_housing_data['features'][house]['attributes']['WARD'])\n",
    "    proptype_cd.append(msp_housing_data['features'][house]['attributes']['PROPTYPE_CD'])\n",
    "    proptype_desc.append(msp_housing_data['features'][house]['attributes']['PROPTYPE_DESC'])\n",
    "    adj_sale_price.append(msp_housing_data['features'][house]['attributes']['ADJ_SALE_PRICE'])\n",
    "    gross_sale_price.append(msp_housing_data['features'][house]['attributes']['GROSS_SALE_PRICE'])\n",
    "    downpayment.append(msp_housing_data['features'][house]['attributes']['DOWNPAYMENT'])\n",
    "    x_coord.append(msp_housing_data['features'][house]['attributes']['X'])\n",
    "    y_coord.append(msp_housing_data['features'][house]['attributes']['Y'])\n",
    "\n"
   ]
  },
  {
   "cell_type": "code",
   "execution_count": 124,
   "metadata": {},
   "outputs": [],
   "source": [
    "msp_home_sales_df = pd.DataFrame(zip(sale_id, sale_date, formatted_address, land_sale, community_cd, community_desc, nbhd_cd, nbhd_desc, ward, proptype_cd, proptype_desc, adj_sale_price, gross_sale_price, downpayment, x_coord, y_coord), columns = ['sale_id', 'sale_date', 'formatted_address', 'land_sale', 'community_cd', 'community_desc', 'nbhd_cd', 'nbhd_desc', 'ward', 'proptype_cd', 'proptype_desc', 'adj_sale_price', 'gross_sale_price', 'downpayment', 'x_coord', 'y_coord'])\n",
    "\n",
    "msp_home_sales_df.set_index('sale_id', inplace=True)\n",
    ""
   ]
  },
  {
   "cell_type": "code",
   "execution_count": 125,
   "metadata": {},
   "outputs": [
    {
     "output_type": "execute_result",
     "data": {
      "text/plain": "             sale_date                   formatted_address land_sale  \\\nsale_id                                                                \n304279   1420783200000                      3542 Valley St        NO   \n303578   1420783200000               301 Oak Grove St #506        NO   \n304190   1420783200000  3136 West Bde Maka Ska Blvd W #206        NO   \n303562   1420783200000                   730 4TH St N #601        NO   \n304311   1420783200000                        3439 Polk St        NO   \n\n         community_cd community_desc  nbhd_cd     nbhd_desc  ward proptype_cd  \\\nsale_id                                                                         \n304279              2      NORTHEAST       11      COLUMBIA     1           R   \n303578              4        CENTRAL       31   LORING PARK     7           X   \n304190              6   CALHOUN-ISLE       49  WEST CALHOUN    13           X   \n303562              4        CENTRAL       86     NORTHLOOP     3           X   \n304311              2      NORTHEAST       12    WAITE PARK     1           R   \n\n        proptype_desc  adj_sale_price  gross_sale_price  downpayment  \\\nsale_id                                                                \n304279    RESIDENTIAL          145985            150500         7525   \n303578    CONDOMINIUM          241000            241000            0   \n304190    CONDOMINIUM           20000             20000            0   \n303562    CONDOMINIUM          320000            320000            0   \n304311    RESIDENTIAL          153500            160000        18741   \n\n               x_coord        y_coord  \nsale_id                                \n304279   533346.190261  188201.516808  \n303578   525967.100955  163990.980501  \n304190   516063.000000  156554.000000  \n303562   526709.800000  171382.570000  \n304311   535920.652943  187323.980831  ",
      "text/html": "<div>\n<style scoped>\n    .dataframe tbody tr th:only-of-type {\n        vertical-align: middle;\n    }\n\n    .dataframe tbody tr th {\n        vertical-align: top;\n    }\n\n    .dataframe thead th {\n        text-align: right;\n    }\n</style>\n<table border=\"1\" class=\"dataframe\">\n  <thead>\n    <tr style=\"text-align: right;\">\n      <th></th>\n      <th>sale_date</th>\n      <th>formatted_address</th>\n      <th>land_sale</th>\n      <th>community_cd</th>\n      <th>community_desc</th>\n      <th>nbhd_cd</th>\n      <th>nbhd_desc</th>\n      <th>ward</th>\n      <th>proptype_cd</th>\n      <th>proptype_desc</th>\n      <th>adj_sale_price</th>\n      <th>gross_sale_price</th>\n      <th>downpayment</th>\n      <th>x_coord</th>\n      <th>y_coord</th>\n    </tr>\n    <tr>\n      <th>sale_id</th>\n      <th></th>\n      <th></th>\n      <th></th>\n      <th></th>\n      <th></th>\n      <th></th>\n      <th></th>\n      <th></th>\n      <th></th>\n      <th></th>\n      <th></th>\n      <th></th>\n      <th></th>\n      <th></th>\n      <th></th>\n    </tr>\n  </thead>\n  <tbody>\n    <tr>\n      <th>304279</th>\n      <td>1420783200000</td>\n      <td>3542 Valley St</td>\n      <td>NO</td>\n      <td>2</td>\n      <td>NORTHEAST</td>\n      <td>11</td>\n      <td>COLUMBIA</td>\n      <td>1</td>\n      <td>R</td>\n      <td>RESIDENTIAL</td>\n      <td>145985</td>\n      <td>150500</td>\n      <td>7525</td>\n      <td>533346.190261</td>\n      <td>188201.516808</td>\n    </tr>\n    <tr>\n      <th>303578</th>\n      <td>1420783200000</td>\n      <td>301 Oak Grove St #506</td>\n      <td>NO</td>\n      <td>4</td>\n      <td>CENTRAL</td>\n      <td>31</td>\n      <td>LORING PARK</td>\n      <td>7</td>\n      <td>X</td>\n      <td>CONDOMINIUM</td>\n      <td>241000</td>\n      <td>241000</td>\n      <td>0</td>\n      <td>525967.100955</td>\n      <td>163990.980501</td>\n    </tr>\n    <tr>\n      <th>304190</th>\n      <td>1420783200000</td>\n      <td>3136 West Bde Maka Ska Blvd W #206</td>\n      <td>NO</td>\n      <td>6</td>\n      <td>CALHOUN-ISLE</td>\n      <td>49</td>\n      <td>WEST CALHOUN</td>\n      <td>13</td>\n      <td>X</td>\n      <td>CONDOMINIUM</td>\n      <td>20000</td>\n      <td>20000</td>\n      <td>0</td>\n      <td>516063.000000</td>\n      <td>156554.000000</td>\n    </tr>\n    <tr>\n      <th>303562</th>\n      <td>1420783200000</td>\n      <td>730 4TH St N #601</td>\n      <td>NO</td>\n      <td>4</td>\n      <td>CENTRAL</td>\n      <td>86</td>\n      <td>NORTHLOOP</td>\n      <td>3</td>\n      <td>X</td>\n      <td>CONDOMINIUM</td>\n      <td>320000</td>\n      <td>320000</td>\n      <td>0</td>\n      <td>526709.800000</td>\n      <td>171382.570000</td>\n    </tr>\n    <tr>\n      <th>304311</th>\n      <td>1420783200000</td>\n      <td>3439 Polk St</td>\n      <td>NO</td>\n      <td>2</td>\n      <td>NORTHEAST</td>\n      <td>12</td>\n      <td>WAITE PARK</td>\n      <td>1</td>\n      <td>R</td>\n      <td>RESIDENTIAL</td>\n      <td>153500</td>\n      <td>160000</td>\n      <td>18741</td>\n      <td>535920.652943</td>\n      <td>187323.980831</td>\n    </tr>\n  </tbody>\n</table>\n</div>"
     },
     "metadata": {},
     "execution_count": 125
    }
   ],
   "source": [
    "msp_home_sales_df.head()"
   ]
  },
  {
   "cell_type": "code",
   "execution_count": null,
   "metadata": {},
   "outputs": [],
   "source": []
  }
 ]
}