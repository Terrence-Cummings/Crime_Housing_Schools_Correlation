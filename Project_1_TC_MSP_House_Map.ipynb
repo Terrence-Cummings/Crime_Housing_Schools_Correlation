{
 "nbformat": 4,
 "nbformat_minor": 2,
 "metadata": {
  "language_info": {
   "name": "python",
   "codemirror_mode": {
    "name": "ipython",
    "version": 3
   },
   "version": "3.6.10-final"
  },
  "orig_nbformat": 2,
  "file_extension": ".py",
  "mimetype": "text/x-python",
  "name": "python",
  "npconvert_exporter": "python",
  "pygments_lexer": "ipython3",
  "version": 3,
  "kernelspec": {
   "name": "python361064bitpythondatacondaab47c43dfe824d4eb95e9e8f15b48370",
   "display_name": "Python 3.6.10 64-bit ('PythonData': conda)"
  }
 },
 "cells": [
  {
   "cell_type": "code",
   "execution_count": null,
   "metadata": {},
   "outputs": [],
   "source": [
    "# Dependencies and Setup\n",
    "import matplotlib.pyplot as plt\n",
    "import scipy.stats as st\n",
    "import pandas as pd\n",
    "import numpy as np\n",
    "import requests\n",
    "import time\n",
    "from scipy.stats import linregress\n",
    "import json\n",
    "import gmaps.datasets\n",
    "import os\n",
    "import gmaps\n",
    "\n",
    "# Import API key\n",
    "from api_keys import g_key\n",
    "\n",
    "#Imprort output from data acquisition and cleaning notebook\n",
    "clean_msp_home_sales_df = pd.DataFrame(pd.read_csv(\"clean_msp_home_sales.csv\"))\n",
    "clean_msp_home_sales_df.set_index('sale_id', inplace=True)\n",
    "\n",
    "#Extract a short df for testing API's etc\n",
    "short_msp_home_sales_df = clean_msp_home_sales_df.iloc[0:5]\n",
    "\n",
    "print(g_key)\n",
    "short_msp_home_sales_df"
   ]
  },
  {
   "cell_type": "code",
   "execution_count": null,
   "metadata": {},
   "outputs": [],
   "source": [
    "params = {\n",
    "    \"key\": g_key,\n",
    "}\n",
    "\n",
    "for index, row in short_msp_home_sales_df.iterrows():\n",
    "    # get address from df\n",
    "    address = row[\"formatted_address\"]\n",
    "    address = address.replace(\"#\", \"%23\")\n",
    "\n",
    "    # change location each iteration while leaving original params in place\n",
    "    params[\"address\"] = f\"{address}\"\n",
    "    \n",
    "    url = f'https://maps.googleapis.com/maps/api/geocode/json?address={address}&key={g_key}'\n",
    "\n",
    "    #Base url and request\n",
    "    base_url = \"https://maps.googleapis.com/maps/api/geocode/json\"\n",
    "    response = requests.get(base_url, params=params).json()\n",
    "    \n",
    "    try:\n",
    "        short_msp_home_sales_df.loc[index, 'Google Address'] = response['results'][0]['formatted_address']\n",
    "        short_msp_home_sales_df.loc[index, 'Google Lat'] = response['results'][0]['geometry']['location']['lat']\n",
    "        short_msp_home_sales_df.loc[index, 'Google Long'] = response['results'][0]['geometry']['location']['lng']\n",
    "    except:\n",
    "        print(f'Bad Google data for sale ID {index}')\n",
    ""
   ]
  },
  {
   "cell_type": "code",
   "execution_count": null,
   "metadata": {},
   "outputs": [],
   "source": []
  }
 ]
}