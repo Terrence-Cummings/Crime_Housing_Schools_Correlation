{
 "nbformat": 4,
 "nbformat_minor": 2,
 "metadata": {
  "language_info": {
   "name": "python",
   "codemirror_mode": {
    "name": "ipython",
    "version": 3
   },
   "version": "3.6.10-final"
  },
  "orig_nbformat": 2,
  "file_extension": ".py",
  "mimetype": "text/x-python",
  "name": "python",
  "npconvert_exporter": "python",
  "pygments_lexer": "ipython3",
  "version": 3,
  "kernelspec": {
   "name": "python361064bitpythondatacondaab47c43dfe824d4eb95e9e8f15b48370",
   "display_name": "Python 3.6.10 64-bit ('PythonData': conda)"
  }
 },
 "cells": [
  {
   "cell_type": "markdown",
   "metadata": {},
   "source": [
    "Project 1 - Terrence Cummings\n",
    "- Crime, Schools, and Home Values in Minneapolis\n",
    "\n",
    "Step 1 - Housing data\n",
    "- Read in housing data from \"Open Minneapolis\" website using APIs (currently hit 2000 limit. Need to fix.)\n",
    "- Store in dataframe\n",
    "- Cleanup data\n",
    "- Convert x, y map coordinates to lat/lng"
   ],
   "execution_count": null,
   "outputs": []
  },
  {
   "cell_type": "code",
   "execution_count": null,
   "metadata": {},
   "outputs": [],
   "source": [
    "# Dependencies and Setup\n",
    "import matplotlib.pyplot as plt\n",
    "import scipy.stats as st\n",
    "import pandas as pd\n",
    "import numpy as np\n",
    "import geopandas as gpd\n",
    "import requests\n",
    "import time\n",
    "from scipy.stats import linregress\n",
    "import json\n",
    "from pprint import pprint\n",
    "from datetime import datetime\n",
    ""
   ]
  },
  {
   "cell_type": "code",
   "execution_count": 14,
   "metadata": {},
   "outputs": [],
   "source": [
    "#Initialize lists to hold key home sales data\n",
    "sale_id =[]\n",
    "sale_date = []\n",
    "formatted_address = []\n",
    "land_sale = []\n",
    "community_cd = []\n",
    "community_desc = []\n",
    "nbhd_cd = []\n",
    "nbhd_desc = []\n",
    "ward = []\n",
    "proptype_cd = []\n",
    "proptype_desc = []\n",
    "adj_sale_price = []\n",
    "gross_sale_price = []\n",
    "downpayment = []\n",
    "x_coord = []\n",
    "y_coord = []\n",
    "\n",
    "#Initialize API record offset because of 2000 record limit per API call\n",
    "resultOffset_num = 0\n",
    "\n",
    "#Base URL for the Open Minnesota database of home sales in Minneapolis\n",
    "base_url = 'https://services.arcgis.com/afSMGVsC7QlRK1kZ/arcgis/rest/services/Property_Sales_2015_to_2019/FeatureServer/0/query?where=1%3D1&outFields=*&outSR=4326&f=json'\n",
    "\n",
    "#Make successive API call to grab 2000 records each time. Total records is 41,053\n",
    "while resultOffset_num<=50000:\n",
    "\n",
    "#Increment the record offset to get the next batch of records\n",
    "    resultOffset = str(resultOffset_num)\n",
    "    resultRecordCount = str(2000)\n",
    "    resultOffset_num = resultOffset_num+2000\n",
    "\n",
    "#Dyamically adjust the offset parameter of the API call and create the next target URL\n",
    "    pagination_url = f'&resultOffset={resultOffset}&resultRecordCount={resultRecordCount}'\n",
    "    target_url = f'{base_url}{pagination_url}'\n",
    "\n",
    "#Make the API call and store data\n",
    "    home_sales_data = requests.get(target_url).json()\n",
    "\n",
    "\n",
    "#Set the number of home sales in the data for looping in filling the lists of key data\n",
    "    num_houses=len(home_sales_data['features'])\n",
    "\n",
    "#Fill lists of key data\n",
    "    for house in range(0, num_houses):\n",
    "        sale_id.append(home_sales_data['features'][house]['attributes']['SALE_ID'])\n",
    "        sale_date.append(home_sales_data['features'][house]['attributes']['SALE_DATE'])\n",
    "        formatted_address.append(home_sales_data['features'][house]['attributes']['FORMATED_ADDRESS'])\n",
    "        land_sale.append(home_sales_data['features'][house]['attributes']['LAND_SALE'])\n",
    "        community_cd.append(home_sales_data['features'][house]['attributes']['COMMUNITY_CD'])\n",
    "        community_desc.append(home_sales_data['features'][house]['attributes']['COMMUNITY_DESC'])\n",
    "        nbhd_cd.append(home_sales_data['features'][house]['attributes']['NBHD_CD'])\n",
    "        nbhd_desc.append(home_sales_data['features'][house]['attributes']['NBHD_DESC'])\n",
    "        ward.append(home_sales_data['features'][house]['attributes']['WARD'])\n",
    "        proptype_cd.append(home_sales_data['features'][house]['attributes']['PROPTYPE_CD'])\n",
    "        proptype_desc.append(home_sales_data['features'][house]['attributes']['PROPTYPE_DESC'])\n",
    "        adj_sale_price.append(home_sales_data['features'][house]['attributes']['ADJ_SALE_PRICE'])\n",
    "        gross_sale_price.append(home_sales_data['features'][house]['attributes']['GROSS_SALE_PRICE'])\n",
    "        downpayment.append(home_sales_data['features'][house]['attributes']['DOWNPAYMENT'])\n",
    "        x_coord.append(home_sales_data['features'][house]['attributes']['X'])\n",
    "        y_coord.append(home_sales_data['features'][house]['attributes']['Y'])\n"
   ]
  },
  {
   "cell_type": "code",
   "execution_count": 28,
   "metadata": {},
   "outputs": [],
   "source": [
    "#Create df of all MSP home sales data\n",
    "msp_home_sales_df = pd.DataFrame(zip(sale_id, sale_date, formatted_address, land_sale, community_cd, community_desc, nbhd_cd, nbhd_desc, ward, proptype_cd, proptype_desc, adj_sale_price, gross_sale_price, downpayment, x_coord, y_coord), columns = ['sale_id', 'sale_date', 'formatted_address', 'land_sale', 'community_cd', 'community_desc', 'nbhd_cd', 'nbhd_desc', 'ward', 'proptype_cd', 'proptype_desc', 'adj_sale_price', 'gross_sale_price', 'downpayment', 'x_coord', 'y_coord'])\n",
    "\n",
    "msp_home_sales_df.set_index('sale_id', inplace=True)\n",
    "\n",
    "#Create a df of the community codes and descriptions\n",
    "community_df = pd.DataFrame(zip(community_cd, community_desc), columns=['community_cd', 'community_desc'])\n",
    "community_df = community_df.drop_duplicates()\n",
    "community_df = community_df.sort_values(['community_cd'])\n",
    "community_df.set_index('community_cd', inplace = True)\n",
    "\n",
    "#Create a df of the neighborhood codes and descriptions\n",
    "nbhd_df = pd.DataFrame(zip(nbhd_cd, nbhd_desc), columns=['nbhd_cd', 'nbhd_desc'])\n",
    "nbhd_df = nbhd_df.drop_duplicates()\n",
    "nbhd_df = nbhd_df.sort_values(['nbhd_cd'])\n",
    "nbhd_df.set_index('nbhd_cd', inplace = True)\n",
    "\n",
    "#Create a df of the property type codes and descriptions\n",
    "proptype_df = pd.DataFrame(zip(proptype_cd, proptype_desc), columns=['proptype_cd', 'proptype_desc'])\n",
    "proptype_df = proptype_df.drop_duplicates()\n",
    "proptype_df = proptype_df.sort_values(['proptype_cd'])\n",
    "proptype_df.set_index('proptype_cd', inplace = True)\n",
    "\n",
    ""
   ]
  },
  {
   "cell_type": "code",
   "execution_count": 84,
   "metadata": {},
   "outputs": [
    {
     "output_type": "execute_result",
     "data": {
      "text/plain": "                  sale_date                   formatted_address  community_cd  \\\nsale_id                                                                         \n304279  2015-01-09 06:00:00                      3542 Valley St             2   \n303578  2015-01-09 06:00:00               301 Oak Grove St #506             4   \n304190  2015-01-09 06:00:00  3136 West Bde Maka Ska Blvd W #206             6   \n303562  2015-01-09 06:00:00                   730 4TH St N #601             4   \n304311  2015-01-09 06:00:00                        3439 Polk St             2   \n...                     ...                                 ...           ...   \n349104  2019-12-11 06:00:00                   3307 Oliver Ave N             1   \n349106  2019-12-11 06:00:00                     3305 32ND Ave S             8   \n348057  2019-12-11 06:00:00                 1240 2ND St S #1027             4   \n348173  2019-12-11 06:00:00                   5201 Columbus Ave            10   \n348211  2019-12-11 06:00:00          2809 Minnehaha Pkwy E #209            10   \n\n        community_desc  nbhd_cd      nbhd_desc  ward proptype_cd  \\\nsale_id                                                            \n304279       NORTHEAST       11       COLUMBIA   1.0           R   \n303578         CENTRAL       31    LORING PARK   7.0           X   \n304190    CALHOUN-ISLE       49   WEST CALHOUN  13.0           X   \n303562         CENTRAL       86      NORTHLOOP   3.0           X   \n304311       NORTHEAST       12     WAITE PARK   1.0           R   \n...                ...      ...            ...   ...         ...   \n349104          CAMDEN        6        FOLWELL   4.0           R   \n349106      LONGFELLOW       61     LONGFELLOW   2.0          DB   \n348057         CENTRAL       88  DOWNTOWN EAST   3.0           X   \n348173         NOKOMIS       78           PAGE  11.0           R   \n348211         NOKOMIS       80      KEEWAYDIN  12.0           X   \n\n           proptype_desc  adj_sale_price  gross_sale_price  downpayment  \\\nsale_id                                                                   \n304279       RESIDENTIAL          145985            150500         7525   \n303578       CONDOMINIUM          241000            241000            0   \n304190       CONDOMINIUM           20000             20000            0   \n303562       CONDOMINIUM          320000            320000            0   \n304311       RESIDENTIAL          153500            160000        18741   \n...                  ...             ...               ...          ...   \n349104       RESIDENTIAL          201760            208000         3768   \n349106   DOUBLE BUNGALOW          330000            330000       330000   \n348057       CONDOMINIUM          495803            495803       495803   \n348173       RESIDENTIAL          463200            470000        94000   \n348211       CONDOMINIUM          135000            135000        27000   \n\n               x_coord        y_coord  \nsale_id                                \n304279   533346.190261  188201.516808  \n303578   525967.100955  163990.980501  \n304190   516063.000000  156554.000000  \n303562   526709.800000  171382.570000  \n304311   535920.652943  187323.980831  \n...                ...            ...  \n349104   519653.507324  181750.950923  \n349106   540924.461117  155372.733934  \n348057   534741.000000  167665.000000  \n348173   531033.148353  142905.996740  \n348211   539272.000000  145465.000000  \n\n[36265 rows x 14 columns]",
      "text/html": "<div>\n<style scoped>\n    .dataframe tbody tr th:only-of-type {\n        vertical-align: middle;\n    }\n\n    .dataframe tbody tr th {\n        vertical-align: top;\n    }\n\n    .dataframe thead th {\n        text-align: right;\n    }\n</style>\n<table border=\"1\" class=\"dataframe\">\n  <thead>\n    <tr style=\"text-align: right;\">\n      <th></th>\n      <th>sale_date</th>\n      <th>formatted_address</th>\n      <th>community_cd</th>\n      <th>community_desc</th>\n      <th>nbhd_cd</th>\n      <th>nbhd_desc</th>\n      <th>ward</th>\n      <th>proptype_cd</th>\n      <th>proptype_desc</th>\n      <th>adj_sale_price</th>\n      <th>gross_sale_price</th>\n      <th>downpayment</th>\n      <th>x_coord</th>\n      <th>y_coord</th>\n    </tr>\n    <tr>\n      <th>sale_id</th>\n      <th></th>\n      <th></th>\n      <th></th>\n      <th></th>\n      <th></th>\n      <th></th>\n      <th></th>\n      <th></th>\n      <th></th>\n      <th></th>\n      <th></th>\n      <th></th>\n      <th></th>\n      <th></th>\n    </tr>\n  </thead>\n  <tbody>\n    <tr>\n      <th>304279</th>\n      <td>2015-01-09 06:00:00</td>\n      <td>3542 Valley St</td>\n      <td>2</td>\n      <td>NORTHEAST</td>\n      <td>11</td>\n      <td>COLUMBIA</td>\n      <td>1.0</td>\n      <td>R</td>\n      <td>RESIDENTIAL</td>\n      <td>145985</td>\n      <td>150500</td>\n      <td>7525</td>\n      <td>533346.190261</td>\n      <td>188201.516808</td>\n    </tr>\n    <tr>\n      <th>303578</th>\n      <td>2015-01-09 06:00:00</td>\n      <td>301 Oak Grove St #506</td>\n      <td>4</td>\n      <td>CENTRAL</td>\n      <td>31</td>\n      <td>LORING PARK</td>\n      <td>7.0</td>\n      <td>X</td>\n      <td>CONDOMINIUM</td>\n      <td>241000</td>\n      <td>241000</td>\n      <td>0</td>\n      <td>525967.100955</td>\n      <td>163990.980501</td>\n    </tr>\n    <tr>\n      <th>304190</th>\n      <td>2015-01-09 06:00:00</td>\n      <td>3136 West Bde Maka Ska Blvd W #206</td>\n      <td>6</td>\n      <td>CALHOUN-ISLE</td>\n      <td>49</td>\n      <td>WEST CALHOUN</td>\n      <td>13.0</td>\n      <td>X</td>\n      <td>CONDOMINIUM</td>\n      <td>20000</td>\n      <td>20000</td>\n      <td>0</td>\n      <td>516063.000000</td>\n      <td>156554.000000</td>\n    </tr>\n    <tr>\n      <th>303562</th>\n      <td>2015-01-09 06:00:00</td>\n      <td>730 4TH St N #601</td>\n      <td>4</td>\n      <td>CENTRAL</td>\n      <td>86</td>\n      <td>NORTHLOOP</td>\n      <td>3.0</td>\n      <td>X</td>\n      <td>CONDOMINIUM</td>\n      <td>320000</td>\n      <td>320000</td>\n      <td>0</td>\n      <td>526709.800000</td>\n      <td>171382.570000</td>\n    </tr>\n    <tr>\n      <th>304311</th>\n      <td>2015-01-09 06:00:00</td>\n      <td>3439 Polk St</td>\n      <td>2</td>\n      <td>NORTHEAST</td>\n      <td>12</td>\n      <td>WAITE PARK</td>\n      <td>1.0</td>\n      <td>R</td>\n      <td>RESIDENTIAL</td>\n      <td>153500</td>\n      <td>160000</td>\n      <td>18741</td>\n      <td>535920.652943</td>\n      <td>187323.980831</td>\n    </tr>\n    <tr>\n      <th>...</th>\n      <td>...</td>\n      <td>...</td>\n      <td>...</td>\n      <td>...</td>\n      <td>...</td>\n      <td>...</td>\n      <td>...</td>\n      <td>...</td>\n      <td>...</td>\n      <td>...</td>\n      <td>...</td>\n      <td>...</td>\n      <td>...</td>\n      <td>...</td>\n    </tr>\n    <tr>\n      <th>349104</th>\n      <td>2019-12-11 06:00:00</td>\n      <td>3307 Oliver Ave N</td>\n      <td>1</td>\n      <td>CAMDEN</td>\n      <td>6</td>\n      <td>FOLWELL</td>\n      <td>4.0</td>\n      <td>R</td>\n      <td>RESIDENTIAL</td>\n      <td>201760</td>\n      <td>208000</td>\n      <td>3768</td>\n      <td>519653.507324</td>\n      <td>181750.950923</td>\n    </tr>\n    <tr>\n      <th>349106</th>\n      <td>2019-12-11 06:00:00</td>\n      <td>3305 32ND Ave S</td>\n      <td>8</td>\n      <td>LONGFELLOW</td>\n      <td>61</td>\n      <td>LONGFELLOW</td>\n      <td>2.0</td>\n      <td>DB</td>\n      <td>DOUBLE BUNGALOW</td>\n      <td>330000</td>\n      <td>330000</td>\n      <td>330000</td>\n      <td>540924.461117</td>\n      <td>155372.733934</td>\n    </tr>\n    <tr>\n      <th>348057</th>\n      <td>2019-12-11 06:00:00</td>\n      <td>1240 2ND St S #1027</td>\n      <td>4</td>\n      <td>CENTRAL</td>\n      <td>88</td>\n      <td>DOWNTOWN EAST</td>\n      <td>3.0</td>\n      <td>X</td>\n      <td>CONDOMINIUM</td>\n      <td>495803</td>\n      <td>495803</td>\n      <td>495803</td>\n      <td>534741.000000</td>\n      <td>167665.000000</td>\n    </tr>\n    <tr>\n      <th>348173</th>\n      <td>2019-12-11 06:00:00</td>\n      <td>5201 Columbus Ave</td>\n      <td>10</td>\n      <td>NOKOMIS</td>\n      <td>78</td>\n      <td>PAGE</td>\n      <td>11.0</td>\n      <td>R</td>\n      <td>RESIDENTIAL</td>\n      <td>463200</td>\n      <td>470000</td>\n      <td>94000</td>\n      <td>531033.148353</td>\n      <td>142905.996740</td>\n    </tr>\n    <tr>\n      <th>348211</th>\n      <td>2019-12-11 06:00:00</td>\n      <td>2809 Minnehaha Pkwy E #209</td>\n      <td>10</td>\n      <td>NOKOMIS</td>\n      <td>80</td>\n      <td>KEEWAYDIN</td>\n      <td>12.0</td>\n      <td>X</td>\n      <td>CONDOMINIUM</td>\n      <td>135000</td>\n      <td>135000</td>\n      <td>27000</td>\n      <td>539272.000000</td>\n      <td>145465.000000</td>\n    </tr>\n  </tbody>\n</table>\n<p>36265 rows × 14 columns</p>\n</div>"
     },
     "metadata": {},
     "execution_count": 84
    }
   ],
   "source": [
    "#Clean up df by eliminating very low sale price\n",
    "clean_msp_home_sales_df = msp_home_sales_df.loc[msp_home_sales_df['adj_sale_price']>10000]\n",
    "\n",
    "#Clean up df by eliminating very high sale price\n",
    "clean_msp_home_sales_df = clean_msp_home_sales_df.loc[clean_msp_home_sales_df['adj_sale_price']<5000000]\n",
    "\n",
    "#Clean up by eliminating non-residential and odd property types\n",
    "proptype_allowed = ['R', 'X', 'DB', 'Y', 'RZ' 'RM', 'RL', 'TP']\n",
    "clean_msp_home_sales_df = clean_msp_home_sales_df[clean_msp_home_sales_df['proptype_cd'].isin(proptype_allowed)]\n",
    "\n",
    "#Clean up by eliminating land-only sales\n",
    "clean_msp_home_sales_df = clean_msp_home_sales_df[clean_msp_home_sales_df['land_sale']=='NO']\n",
    "\n",
    "#Delete unneeded column\n",
    "del clean_msp_home_sales_df['land_sale']\n",
    "\n",
    "#Format the sale date\n",
    "clean_msp_home_sales_df['sale_date']= pd.to_datetime(clean_msp_home_sales_df['sale_date'], unit = 'ms')\n",
    "\n",
    "clean_msp_home_sales_df\n"
   ]
  },
  {
   "cell_type": "code",
   "execution_count": 87,
   "metadata": {},
   "outputs": [
    {
     "output_type": "execute_result",
     "data": {
      "text/plain": "       community_cd       nbhd_cd          ward  adj_sale_price  \\\ncount  36265.000000  36265.000000  36265.000000    3.626500e+04   \nmean       5.814863     48.658293      7.154088    2.816078e+05   \nstd        3.170320     27.336689      3.982461    2.246991e+05   \nmin        1.000000      0.000000      1.000000    1.004200e+04   \n25%        3.000000     25.000000      4.000000    1.606500e+05   \n50%        6.000000     54.000000      7.000000    2.328000e+05   \n75%        9.000000     71.000000     11.000000    3.305000e+05   \nmax       11.000000     92.000000     13.000000    4.800000e+06   \n\n       gross_sale_price   downpayment        x_coord        y_coord  \ncount      3.626500e+04  3.626500e+04   36264.000000   36264.000000  \nmean       2.837968e+05  7.271988e+04  528977.912775  162467.001277  \nstd        2.247539e+05  1.229446e+06    8807.071446   15852.808844  \nmin        1.004200e+04  0.000000e+00     933.000000  136397.659001  \n25%        1.640000e+05  2.196000e+03  522129.450866  149120.192232  \n50%        2.350000e+05  1.700000e+04  528549.028961  160382.875405  \n75%        3.350000e+05  7.000000e+04  535477.902553  176490.941854  \nmax        4.800000e+06  2.325093e+08  547403.088448  195519.000000  ",
      "text/html": "<div>\n<style scoped>\n    .dataframe tbody tr th:only-of-type {\n        vertical-align: middle;\n    }\n\n    .dataframe tbody tr th {\n        vertical-align: top;\n    }\n\n    .dataframe thead th {\n        text-align: right;\n    }\n</style>\n<table border=\"1\" class=\"dataframe\">\n  <thead>\n    <tr style=\"text-align: right;\">\n      <th></th>\n      <th>community_cd</th>\n      <th>nbhd_cd</th>\n      <th>ward</th>\n      <th>adj_sale_price</th>\n      <th>gross_sale_price</th>\n      <th>downpayment</th>\n      <th>x_coord</th>\n      <th>y_coord</th>\n    </tr>\n  </thead>\n  <tbody>\n    <tr>\n      <th>count</th>\n      <td>36265.000000</td>\n      <td>36265.000000</td>\n      <td>36265.000000</td>\n      <td>3.626500e+04</td>\n      <td>3.626500e+04</td>\n      <td>3.626500e+04</td>\n      <td>36264.000000</td>\n      <td>36264.000000</td>\n    </tr>\n    <tr>\n      <th>mean</th>\n      <td>5.814863</td>\n      <td>48.658293</td>\n      <td>7.154088</td>\n      <td>2.816078e+05</td>\n      <td>2.837968e+05</td>\n      <td>7.271988e+04</td>\n      <td>528977.912775</td>\n      <td>162467.001277</td>\n    </tr>\n    <tr>\n      <th>std</th>\n      <td>3.170320</td>\n      <td>27.336689</td>\n      <td>3.982461</td>\n      <td>2.246991e+05</td>\n      <td>2.247539e+05</td>\n      <td>1.229446e+06</td>\n      <td>8807.071446</td>\n      <td>15852.808844</td>\n    </tr>\n    <tr>\n      <th>min</th>\n      <td>1.000000</td>\n      <td>0.000000</td>\n      <td>1.000000</td>\n      <td>1.004200e+04</td>\n      <td>1.004200e+04</td>\n      <td>0.000000e+00</td>\n      <td>933.000000</td>\n      <td>136397.659001</td>\n    </tr>\n    <tr>\n      <th>25%</th>\n      <td>3.000000</td>\n      <td>25.000000</td>\n      <td>4.000000</td>\n      <td>1.606500e+05</td>\n      <td>1.640000e+05</td>\n      <td>2.196000e+03</td>\n      <td>522129.450866</td>\n      <td>149120.192232</td>\n    </tr>\n    <tr>\n      <th>50%</th>\n      <td>6.000000</td>\n      <td>54.000000</td>\n      <td>7.000000</td>\n      <td>2.328000e+05</td>\n      <td>2.350000e+05</td>\n      <td>1.700000e+04</td>\n      <td>528549.028961</td>\n      <td>160382.875405</td>\n    </tr>\n    <tr>\n      <th>75%</th>\n      <td>9.000000</td>\n      <td>71.000000</td>\n      <td>11.000000</td>\n      <td>3.305000e+05</td>\n      <td>3.350000e+05</td>\n      <td>7.000000e+04</td>\n      <td>535477.902553</td>\n      <td>176490.941854</td>\n    </tr>\n    <tr>\n      <th>max</th>\n      <td>11.000000</td>\n      <td>92.000000</td>\n      <td>13.000000</td>\n      <td>4.800000e+06</td>\n      <td>4.800000e+06</td>\n      <td>2.325093e+08</td>\n      <td>547403.088448</td>\n      <td>195519.000000</td>\n    </tr>\n  </tbody>\n</table>\n</div>"
     },
     "metadata": {},
     "execution_count": 87
    }
   ],
   "source": [
    "clean_msp_home_sales_df.describe()"
   ]
  },
  {
   "cell_type": "code",
   "execution_count": null,
   "metadata": {},
   "outputs": [],
   "source": []
  }
 ]
}