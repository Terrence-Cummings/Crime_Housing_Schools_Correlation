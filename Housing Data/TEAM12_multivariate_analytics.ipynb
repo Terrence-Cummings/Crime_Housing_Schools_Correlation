{
 "cells": [
  {
   "cell_type": "markdown",
   "metadata": {},
   "source": [
    "Project 1 - Terrence Cummings\n",
    "\n",
    "This notebook is for performing multivariate regression and other analytics on the final home value, education, and crime statistics in the 11 Minneapolis communities.\n",
    "\n",
    "Performs various iterations of multivariate regression to test hypothesis:\n",
    "\n",
    "Does treating Violent and Non-violent crime as separate independent variable improve R2?\n",
    "Do school rankings improve R2?\n",
    "Does inclusion or exclusion of Central (which appears to be an outlier) improve R2?"
   ]
  },
  {
   "cell_type": "code",
   "execution_count": 7,
   "metadata": {},
   "outputs": [],
   "source": [
    "# Dependencies and Setup\n",
    "import matplotlib as mpl \n",
    "import matplotlib.pyplot as plt\n",
    "import scipy.stats as st\n",
    "import pandas as pd\n",
    "import numpy as np\n",
    "from scipy.stats import linregress\n",
    "from sklearn import linear_model\n",
    "from sklearn.metrics import mean_squared_error, r2_score\n",
    "from sklearn.model_selection import train_test_split\n",
    "from sklearn.linear_model import LinearRegression\n",
    "from sklearn import metrics\n",
    "import statsmodels.api as sm\n",
    "from statsmodels.formula.api import ols\n"
   ]
  },
  {
   "cell_type": "code",
   "execution_count": 11,
   "metadata": {},
   "outputs": [
    {
     "output_type": "execute_result",
     "data": {
      "text/plain": "      community  Value per Sqft  School Ranking  Total Crime Rate  \\\n0  CALHOUN-ISLE      217.785079        2.500000             58.34   \n1        CAMDEN       89.854937        1.333333             51.76   \n2    LONGFELLOW      149.614650        3.500000             60.46   \n3    NEAR NORTH       80.650318        1.625000             49.63   \n4       NOKOMIS      145.605115        5.500000             26.82   \n5     NORTHEAST      130.920763        2.714286             34.68   \n6      PHILLIPS       99.845649        2.000000             64.29   \n7    POWDERHORN      123.904829        1.888889             47.26   \n8     SOUTHWEST      190.539065        5.600000             22.58   \n9    UNIVERSITY      189.266289        2.000000             39.93   \n\n   Violent Crime Rate  Non-Violent Crime Rate        LAT        LNG  \n0               13.64                   44.70  44.959319 -93.306924  \n1               25.93                   25.83  45.032955 -93.300300  \n2               16.36                   44.09  44.948282 -93.227425  \n3               24.08                   25.54  44.993191 -93.293128  \n4               10.99                   15.84  44.906686 -93.237680  \n5               11.08                   23.60  45.015793 -93.249438  \n6               26.17                   38.12  44.956520 -93.257054  \n7               18.44                   28.82  44.938932 -93.258480  \n8                7.40                   15.18  44.916219 -93.298635  \n9               10.58                   29.35  44.976498 -93.230213  ",
      "text/html": "<div>\n<style scoped>\n    .dataframe tbody tr th:only-of-type {\n        vertical-align: middle;\n    }\n\n    .dataframe tbody tr th {\n        vertical-align: top;\n    }\n\n    .dataframe thead th {\n        text-align: right;\n    }\n</style>\n<table border=\"1\" class=\"dataframe\">\n  <thead>\n    <tr style=\"text-align: right;\">\n      <th></th>\n      <th>community</th>\n      <th>Value per Sqft</th>\n      <th>School Ranking</th>\n      <th>Total Crime Rate</th>\n      <th>Violent Crime Rate</th>\n      <th>Non-Violent Crime Rate</th>\n      <th>LAT</th>\n      <th>LNG</th>\n    </tr>\n  </thead>\n  <tbody>\n    <tr>\n      <th>0</th>\n      <td>CALHOUN-ISLE</td>\n      <td>217.785079</td>\n      <td>2.500000</td>\n      <td>58.34</td>\n      <td>13.64</td>\n      <td>44.70</td>\n      <td>44.959319</td>\n      <td>-93.306924</td>\n    </tr>\n    <tr>\n      <th>1</th>\n      <td>CAMDEN</td>\n      <td>89.854937</td>\n      <td>1.333333</td>\n      <td>51.76</td>\n      <td>25.93</td>\n      <td>25.83</td>\n      <td>45.032955</td>\n      <td>-93.300300</td>\n    </tr>\n    <tr>\n      <th>2</th>\n      <td>LONGFELLOW</td>\n      <td>149.614650</td>\n      <td>3.500000</td>\n      <td>60.46</td>\n      <td>16.36</td>\n      <td>44.09</td>\n      <td>44.948282</td>\n      <td>-93.227425</td>\n    </tr>\n    <tr>\n      <th>3</th>\n      <td>NEAR NORTH</td>\n      <td>80.650318</td>\n      <td>1.625000</td>\n      <td>49.63</td>\n      <td>24.08</td>\n      <td>25.54</td>\n      <td>44.993191</td>\n      <td>-93.293128</td>\n    </tr>\n    <tr>\n      <th>4</th>\n      <td>NOKOMIS</td>\n      <td>145.605115</td>\n      <td>5.500000</td>\n      <td>26.82</td>\n      <td>10.99</td>\n      <td>15.84</td>\n      <td>44.906686</td>\n      <td>-93.237680</td>\n    </tr>\n    <tr>\n      <th>5</th>\n      <td>NORTHEAST</td>\n      <td>130.920763</td>\n      <td>2.714286</td>\n      <td>34.68</td>\n      <td>11.08</td>\n      <td>23.60</td>\n      <td>45.015793</td>\n      <td>-93.249438</td>\n    </tr>\n    <tr>\n      <th>6</th>\n      <td>PHILLIPS</td>\n      <td>99.845649</td>\n      <td>2.000000</td>\n      <td>64.29</td>\n      <td>26.17</td>\n      <td>38.12</td>\n      <td>44.956520</td>\n      <td>-93.257054</td>\n    </tr>\n    <tr>\n      <th>7</th>\n      <td>POWDERHORN</td>\n      <td>123.904829</td>\n      <td>1.888889</td>\n      <td>47.26</td>\n      <td>18.44</td>\n      <td>28.82</td>\n      <td>44.938932</td>\n      <td>-93.258480</td>\n    </tr>\n    <tr>\n      <th>8</th>\n      <td>SOUTHWEST</td>\n      <td>190.539065</td>\n      <td>5.600000</td>\n      <td>22.58</td>\n      <td>7.40</td>\n      <td>15.18</td>\n      <td>44.916219</td>\n      <td>-93.298635</td>\n    </tr>\n    <tr>\n      <th>9</th>\n      <td>UNIVERSITY</td>\n      <td>189.266289</td>\n      <td>2.000000</td>\n      <td>39.93</td>\n      <td>10.58</td>\n      <td>29.35</td>\n      <td>44.976498</td>\n      <td>-93.230213</td>\n    </tr>\n  </tbody>\n</table>\n</div>"
     },
     "metadata": {},
     "execution_count": 11
    }
   ],
   "source": [
    "# Read in the final cleaned data files\n",
    "\n",
    "#Table of home, educ, and crime stats by community\n",
    "msp_home_educ_crime_summ_df = pd.DataFrame(pd.read_csv('./output_data/msp_home_educ_crime_summ.csv'))\n",
    "\n",
    "#Table of home, educ, and crime stats by community excluding outlier Central community\n",
    "msp_home_educ_crime_summ_nocentral_df = pd.DataFrame(pd.read_csv('./output_data/msp_home_educ_crime_summ_nocentral.csv'))\n",
    "\n",
    "\n",
    "msp_home_educ_crime_summ_nocentral_df"
   ]
  },
  {
   "cell_type": "code",
   "execution_count": 58,
   "metadata": {},
   "outputs": [
    {
     "output_type": "stream",
     "name": "stdout",
     "text": "Val sqft all = 118.31624717769513 + (6.397147485989732)*School + (-5.651418759626093)*Violent + (3.4351724374815666)*Non-violent\nR-squared= 0.889351128001846\n"
    }
   ],
   "source": [
    "#ALL MSP COMMUNITIES. \n",
    "#SCHOOL RANKING\n",
    "#VIOLENT CRIME\n",
    "#NON-VIOLENT CRIME\n",
    "\n",
    "# create linear regression object\n",
    "mlr = LinearRegression()\n",
    "x, y =msp_home_educ_crime_summ_df[['School Ranking', 'Violent Crime Rate', 'Non-Violent Crime Rate']], msp_home_educ_crime_summ_df['Value per Sqft']\n",
    "\n",
    "# fit linear regression\n",
    "mlr.fit(x, y)\n",
    "\n",
    "# get the slope and intercept of the line best fit.\n",
    "intercept = mlr.intercept_\n",
    "coefficient = mlr.coef_\n",
    "R_squared = mlr.score(x,y)\n",
    "\n",
    "val_line = f'Val sqft all = {intercept} + ({coefficient[0]})*School + ({coefficient[1]})*Violent + ({coefficient[2]})*Non-violent'\n",
    "print(val_line)\n",
    "print(f'R-squared= {R_squared}')"
   ]
  },
  {
   "cell_type": "code",
   "execution_count": 59,
   "metadata": {},
   "outputs": [
    {
     "output_type": "stream",
     "name": "stdout",
     "text": "Val sqft ex-C = 184.43239516400465 + (0.3734582429007245)*School + (-6.306401401944014)*Violent + (2.066286408305256)*Non-violent\nR-squared= 0.8353804781677505\n"
    }
   ],
   "source": [
    "#EXCLUDING CENTRAL. \n",
    "#SCHOOL RANKING\n",
    "#VIOLENT CRIME\n",
    "#NON-VIOLENT CRIME\n",
    "\n",
    "# create linear regression object\n",
    "mlr1 = LinearRegression()\n",
    "x1, y1 =msp_home_educ_crime_summ_nocentral_df[['School Ranking', 'Violent Crime Rate', 'Non-Violent Crime Rate']], msp_home_educ_crime_summ_nocentral_df['Value per Sqft']\n",
    "\n",
    "# fit linear regression\n",
    "mlr1.fit(x1, y1)\n",
    "\n",
    "# get the slope and intercept of the line best fit.\n",
    "intercept1 = mlr1.intercept_\n",
    "coefficient1 = mlr1.coef_\n",
    "R_squared1 = mlr1.score(x1,y1)\n",
    "\n",
    "val_line1 = f'Val sqft ex-C = {intercept1} + ({coefficient1[0]})*School + ({coefficient1[1]})*Violent + ({coefficient1[2]})*Non-violent'\n",
    "print(val_line1)\n",
    "print(f'R-squared= {R_squared1}')"
   ]
  },
  {
   "cell_type": "code",
   "execution_count": 60,
   "metadata": {},
   "outputs": [
    {
     "output_type": "stream",
     "name": "stdout",
     "text": "Val sqft all = -28.370538779076554 + (26.463978743477853)*School + (2.1327247559992677)*Tot Crime\nR-squared= 0.5635236838441315\n"
    }
   ],
   "source": [
    "#ALL MSP. \n",
    "#SCHOOL RANKING\n",
    "#TOTAL CRIME\n",
    "\n",
    "# create linear regression object\n",
    "mlr2 = LinearRegression()\n",
    "x2, y2 =msp_home_educ_crime_summ_df[['School Ranking', 'Total Crime Rate']], msp_home_educ_crime_summ_df['Value per Sqft']\n",
    "\n",
    "# fit linear regression\n",
    "mlr2.fit(x2, y2)\n",
    "\n",
    "# get the slope and intercept of the line best fit.\n",
    "intercept2 = mlr2.intercept_\n",
    "coefficient2 = mlr2.coef_\n",
    "R_squared2 = mlr2.score(x2,y2)\n",
    "\n",
    "val_line2 = f'Val sqft all = {intercept2} + ({coefficient2[0]})*School + ({coefficient2[1]})*Tot Crime'\n",
    "print(val_line2)\n",
    "print(f'R-squared= {R_squared2}')"
   ]
  },
  {
   "cell_type": "code",
   "execution_count": 61,
   "metadata": {},
   "outputs": [
    {
     "output_type": "stream",
     "name": "stdout",
     "text": "Val sqft EX-C = 91.47791253499543 + (14.730329788543305)*School + (0.17775996611259376)*Tot Crime\nR-squared= 0.20845644317905798\n"
    }
   ],
   "source": [
    "#EX CENTRAL. \n",
    "#SCHOOL RANKING\n",
    "#TOTAL CRIME\n",
    "\n",
    "# create linear regression object\n",
    "mlr3 = LinearRegression()\n",
    "x3, y3 =msp_home_educ_crime_summ_nocentral_df[['School Ranking', 'Total Crime Rate']], msp_home_educ_crime_summ_nocentral_df['Value per Sqft']\n",
    "\n",
    "# fit linear regression\n",
    "mlr3.fit(x3, y3)\n",
    "\n",
    "# get the slope and intercept of the line best fit.\n",
    "intercept3 = mlr3.intercept_\n",
    "coefficient3 = mlr3.coef_\n",
    "R_squared3 = mlr3.score(x3,y3)\n",
    "\n",
    "val_line3 = f'Val sqft EX-C = {intercept3} + ({coefficient3[0]})*School + ({coefficient3[1]})*Tot Crime'\n",
    "print(val_line3)\n",
    "print(f'R-squared= {R_squared3}')"
   ]
  },
  {
   "cell_type": "code",
   "execution_count": 62,
   "metadata": {},
   "outputs": [
    {
     "output_type": "stream",
     "name": "stdout",
     "text": "Val sqft all = 133.8315868994571 + (9.98690615617591)*School + (-0.2803956068415329)*Viol Crime\nR-squared= 0.05654867322556456\n"
    }
   ],
   "source": [
    "#ALL MSP. \n",
    "#SCHOOL RANKING\n",
    "#VIOL CRIME\n",
    "\n",
    "# create linear regression object\n",
    "mlr4 = LinearRegression()\n",
    "x4, y4 =msp_home_educ_crime_summ_df[['School Ranking', 'Violent Crime Rate']], msp_home_educ_crime_summ_df['Value per Sqft']\n",
    "\n",
    "# fit linear regression\n",
    "mlr4.fit(x4, y4)\n",
    "\n",
    "# get the slope and intercept of the line best fit.\n",
    "intercept4 = mlr4.intercept_\n",
    "coefficient4 = mlr4.coef_\n",
    "R_squared4 = mlr4.score(x4,y4)\n",
    "\n",
    "val_line4 = f'Val sqft all = {intercept4} + ({coefficient4[0]})*School + ({coefficient4[1]})*Viol Crime'\n",
    "print(val_line4)\n",
    "print(f'R-squared= {R_squared4}')"
   ]
  },
  {
   "cell_type": "code",
   "execution_count": 63,
   "metadata": {},
   "outputs": [
    {
     "output_type": "stream",
     "name": "stdout",
     "text": "Val sqft ex-C = 262.6695586058876 + (-6.037224642663502)*School + (-6.289384405245405)*Viol Crime\nR-squared= 0.6646887257575517\n"
    }
   ],
   "source": [
    "#ex -c. \n",
    "#SCHOOL RANKING\n",
    "#VIOL CRIME\n",
    "\n",
    "# create linear regression object\n",
    "mlr5 = LinearRegression()\n",
    "x5, y5 =msp_home_educ_crime_summ_nocentral_df[['School Ranking', 'Violent Crime Rate']], msp_home_educ_crime_summ_nocentral_df['Value per Sqft']\n",
    "\n",
    "# fit linear regression\n",
    "mlr5.fit(x5, y5)\n",
    "\n",
    "# get the slope and intercept of the line best fit.\n",
    "intercept5 = mlr5.intercept_\n",
    "coefficient5 = mlr5.coef_\n",
    "R_squared5 = mlr5.score(x5,y5)\n",
    "\n",
    "val_line5 = f'Val sqft ex-C = {intercept5} + ({coefficient5[0]})*School + ({coefficient5[1]})*Viol Crime'\n",
    "print(val_line5)\n",
    "print(f'R-squared= {R_squared5}')"
   ]
  },
  {
   "cell_type": "code",
   "execution_count": 67,
   "metadata": {},
   "outputs": [
    {
     "output_type": "stream",
     "name": "stdout",
     "text": "Val sqft all = 151.34124212318363 + (-6.560944515567364)*Viol Crime + (3.459890727536499)*Non-Viol Crime\nR-squared= 0.8786720689351252\n"
    }
   ],
   "source": [
    "#all. \n",
    "#VIOL CRIME\n",
    "#Non-violent crime\n",
    "\n",
    "# create linear regression object\n",
    "mlr6 = LinearRegression()\n",
    "x6, y6 =msp_home_educ_crime_summ_df[['Violent Crime Rate', 'Non-Violent Crime Rate']], msp_home_educ_crime_summ_df['Value per Sqft']\n",
    "\n",
    "# fit linear regression\n",
    "mlr6.fit(x6, y6)\n",
    "\n",
    "# get the slope and intercept of the line best fit.\n",
    "intercept6 = mlr6.intercept_\n",
    "coefficient6 = mlr6.coef_\n",
    "R_squared6 = mlr6.score(x6,y6)\n",
    "\n",
    "val_line6 = f'Val sqft all = {intercept6} + ({coefficient6[0]})*Viol Crime + ({coefficient6[1]})*Non-Viol Crime'\n",
    "print(val_line6)\n",
    "print(f'R-squared= {R_squared6}')"
   ]
  },
  {
   "cell_type": "code",
   "execution_count": 68,
   "metadata": {},
   "outputs": [
    {
     "output_type": "stream",
     "name": "stdout",
     "text": "Val sqft ex-C = 186.76460889135444 + (-6.357173045867092)*Viol Crime + (2.0516586751963093)*Non-Viol Crime\nR-squared= 0.8353100839801693\n"
    }
   ],
   "source": [
    "#no central. \n",
    "#VIOL CRIME\n",
    "#Non-violent crime\n",
    "\n",
    "# create linear regression object\n",
    "mlr7 = LinearRegression()\n",
    "x7, y7 =msp_home_educ_crime_summ_nocentral_df[['Violent Crime Rate', 'Non-Violent Crime Rate']], msp_home_educ_crime_summ_nocentral_df['Value per Sqft']\n",
    "\n",
    "# fit linear regression\n",
    "mlr7.fit(x7, y7)\n",
    "\n",
    "# get the slope and intercept of the line best fit.\n",
    "intercept7 = mlr7.intercept_\n",
    "coefficient7 = mlr7.coef_\n",
    "R_squared7 = mlr7.score(x7,y7)\n",
    "\n",
    "val_line7 = f'Val sqft ex-C = {intercept7} + ({coefficient7[0]})*Viol Crime + ({coefficient7[1]})*Non-Viol Crime'\n",
    "print(val_line7)\n",
    "print(f'R-squared= {R_squared7}')"
   ]
  },
  {
   "cell_type": "code",
   "execution_count": null,
   "metadata": {},
   "outputs": [],
   "source": []
  }
 ],
 "metadata": {
  "file_extension": ".py",
  "kernelspec": {
   "display_name": "Python 3.6.10 64-bit ('PythonData': conda)",
   "language": "python",
   "name": "python361064bitpythondatacondaab47c43dfe824d4eb95e9e8f15b48370"
  },
  "language_info": {
   "codemirror_mode": {
    "name": "ipython",
    "version": 3
   },
   "file_extension": ".py",
   "mimetype": "text/x-python",
   "name": "python",
   "nbconvert_exporter": "python",
   "pygments_lexer": "ipython3",
   "version": "3.6.10-final"
  },
  "mimetype": "text/x-python",
  "name": "python",
  "npconvert_exporter": "python",
  "pygments_lexer": "ipython3",
  "version": 3
 },
 "nbformat": 4,
 "nbformat_minor": 2
}